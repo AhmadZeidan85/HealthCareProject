{
 "cells": [
  {
   "cell_type": "code",
   "execution_count": 3,
   "metadata": {},
   "outputs": [
    {
     "data": {
      "text/html": [
       "<div>\n",
       "<style scoped>\n",
       "    .dataframe tbody tr th:only-of-type {\n",
       "        vertical-align: middle;\n",
       "    }\n",
       "\n",
       "    .dataframe tbody tr th {\n",
       "        vertical-align: top;\n",
       "    }\n",
       "\n",
       "    .dataframe thead th {\n",
       "        text-align: right;\n",
       "    }\n",
       "</style>\n",
       "<table border=\"1\" class=\"dataframe\">\n",
       "  <thead>\n",
       "    <tr style=\"text-align: right;\">\n",
       "      <th></th>\n",
       "      <th>id</th>\n",
       "      <th>age</th>\n",
       "      <th>gender</th>\n",
       "      <th>height</th>\n",
       "      <th>weight</th>\n",
       "      <th>ap_hi</th>\n",
       "      <th>ap_lo</th>\n",
       "      <th>cholesterol</th>\n",
       "      <th>gluc</th>\n",
       "      <th>smoke</th>\n",
       "      <th>alco</th>\n",
       "      <th>active</th>\n",
       "      <th>cardio</th>\n",
       "    </tr>\n",
       "  </thead>\n",
       "  <tbody>\n",
       "    <tr>\n",
       "      <td>0</td>\n",
       "      <td>0</td>\n",
       "      <td>18393</td>\n",
       "      <td>2</td>\n",
       "      <td>168</td>\n",
       "      <td>62.0</td>\n",
       "      <td>110</td>\n",
       "      <td>80</td>\n",
       "      <td>1</td>\n",
       "      <td>1</td>\n",
       "      <td>0</td>\n",
       "      <td>0</td>\n",
       "      <td>1</td>\n",
       "      <td>0</td>\n",
       "    </tr>\n",
       "    <tr>\n",
       "      <td>1</td>\n",
       "      <td>1</td>\n",
       "      <td>20228</td>\n",
       "      <td>1</td>\n",
       "      <td>156</td>\n",
       "      <td>85.0</td>\n",
       "      <td>140</td>\n",
       "      <td>90</td>\n",
       "      <td>3</td>\n",
       "      <td>1</td>\n",
       "      <td>0</td>\n",
       "      <td>0</td>\n",
       "      <td>1</td>\n",
       "      <td>1</td>\n",
       "    </tr>\n",
       "    <tr>\n",
       "      <td>2</td>\n",
       "      <td>2</td>\n",
       "      <td>18857</td>\n",
       "      <td>1</td>\n",
       "      <td>165</td>\n",
       "      <td>64.0</td>\n",
       "      <td>130</td>\n",
       "      <td>70</td>\n",
       "      <td>3</td>\n",
       "      <td>1</td>\n",
       "      <td>0</td>\n",
       "      <td>0</td>\n",
       "      <td>0</td>\n",
       "      <td>1</td>\n",
       "    </tr>\n",
       "    <tr>\n",
       "      <td>3</td>\n",
       "      <td>3</td>\n",
       "      <td>17623</td>\n",
       "      <td>2</td>\n",
       "      <td>169</td>\n",
       "      <td>82.0</td>\n",
       "      <td>150</td>\n",
       "      <td>100</td>\n",
       "      <td>1</td>\n",
       "      <td>1</td>\n",
       "      <td>0</td>\n",
       "      <td>0</td>\n",
       "      <td>1</td>\n",
       "      <td>1</td>\n",
       "    </tr>\n",
       "    <tr>\n",
       "      <td>4</td>\n",
       "      <td>4</td>\n",
       "      <td>17474</td>\n",
       "      <td>1</td>\n",
       "      <td>156</td>\n",
       "      <td>56.0</td>\n",
       "      <td>100</td>\n",
       "      <td>60</td>\n",
       "      <td>1</td>\n",
       "      <td>1</td>\n",
       "      <td>0</td>\n",
       "      <td>0</td>\n",
       "      <td>0</td>\n",
       "      <td>0</td>\n",
       "    </tr>\n",
       "  </tbody>\n",
       "</table>\n",
       "</div>"
      ],
      "text/plain": [
       "   id    age  gender  height  weight  ap_hi  ap_lo  cholesterol  gluc  smoke  \\\n",
       "0   0  18393       2     168    62.0    110     80            1     1      0   \n",
       "1   1  20228       1     156    85.0    140     90            3     1      0   \n",
       "2   2  18857       1     165    64.0    130     70            3     1      0   \n",
       "3   3  17623       2     169    82.0    150    100            1     1      0   \n",
       "4   4  17474       1     156    56.0    100     60            1     1      0   \n",
       "\n",
       "   alco  active  cardio  \n",
       "0     0       1       0  \n",
       "1     0       1       1  \n",
       "2     0       0       1  \n",
       "3     0       1       1  \n",
       "4     0       0       0  "
      ]
     },
     "execution_count": 3,
     "metadata": {},
     "output_type": "execute_result"
    }
   ],
   "source": [
    "import numpy as np\n",
    "import pandas as pd\n",
    "import matplotlib.pyplot as plt\n",
    "import seaborn as sns\n",
    "sns.set()\n",
    "%matplotlib inline\n",
    "CardiovascularDS = pd.read_csv('./DataScience/HealthData/CardiovascularDisease.csv',sep=\";\")\n",
    "CardiovascularDS.head()\n"
   ]
  },
  {
   "cell_type": "markdown",
   "metadata": {},
   "source": [
    "Age | Objective Feature | age | int (days)\n",
    "Height | Objective Feature | height | int (cm) |\n",
    "Weight | Objective Feature | weight | float (kg) |\n",
    "Gender | Objective Feature | gender | categorical code |\n",
    "Systolic blood pressure | Examination Feature | ap_hi | int |\n",
    "Diastolic blood pressure | Examination Feature | ap_lo | int |\n",
    "Cholesterol | Examination Feature | cholesterol | 1: normal, 2: above normal, 3: well above normal |\n",
    "Glucose | Examination Feature | gluc | 1: normal, 2: above normal, 3: well above normal |\n",
    "Smoking | Subjective Feature | smoke | binary |\n",
    "Alcohol intake | Subjective Feature | alco | binary |\n",
    "Physical activity | Subjective Feature | active | binary |\n",
    "Presence or absence of cardiovascular disease | Target Variable | cardio | binary |\n",
    "All of the dataset values were collected at the moment of medical examination.\n",
    "\n",
    "The Problem Statement:\n",
    "To build an application to classify the patients to be healthy or suffering from cardiovascular disease based on the given attributes."
   ]
  },
  {
   "cell_type": "code",
   "execution_count": 4,
   "metadata": {},
   "outputs": [
    {
     "name": "stdout",
     "output_type": "stream",
     "text": [
      "<class 'pandas.core.frame.DataFrame'>\n",
      "RangeIndex: 70000 entries, 0 to 69999\n",
      "Data columns (total 13 columns):\n",
      "id             70000 non-null int64\n",
      "age            70000 non-null int64\n",
      "gender         70000 non-null int64\n",
      "height         70000 non-null int64\n",
      "weight         70000 non-null float64\n",
      "ap_hi          70000 non-null int64\n",
      "ap_lo          70000 non-null int64\n",
      "cholesterol    70000 non-null int64\n",
      "gluc           70000 non-null int64\n",
      "smoke          70000 non-null int64\n",
      "alco           70000 non-null int64\n",
      "active         70000 non-null int64\n",
      "cardio         70000 non-null int64\n",
      "dtypes: float64(1), int64(12)\n",
      "memory usage: 6.9 MB\n"
     ]
    }
   ],
   "source": [
    "CardiovascularDS.info()"
   ]
  },
  {
   "cell_type": "code",
   "execution_count": 5,
   "metadata": {},
   "outputs": [],
   "source": [
    "CardiovascularDS.drop(\"id\",axis=1,inplace=True)"
   ]
  },
  {
   "cell_type": "code",
   "execution_count": 6,
   "metadata": {},
   "outputs": [
    {
     "name": "stdout",
     "output_type": "stream",
     "text": [
      "There is 0 missing values in data frame\n"
     ]
    },
    {
     "data": {
      "text/plain": [
       "age            0\n",
       "gender         0\n",
       "height         0\n",
       "weight         0\n",
       "ap_hi          0\n",
       "ap_lo          0\n",
       "cholesterol    0\n",
       "gluc           0\n",
       "smoke          0\n",
       "alco           0\n",
       "active         0\n",
       "cardio         0\n",
       "dtype: int64"
      ]
     },
     "execution_count": 6,
     "metadata": {},
     "output_type": "execute_result"
    }
   ],
   "source": [
    "print(\"There is {} missing values in data frame\".format(CardiovascularDS.isnull().sum().sum()))\n",
    "CardiovascularDS.isnull().sum()"
   ]
  },
  {
   "cell_type": "code",
   "execution_count": 7,
   "metadata": {},
   "outputs": [
    {
     "name": "stdout",
     "output_type": "stream",
     "text": [
      "There is 24 duplicated values in data frame\n"
     ]
    }
   ],
   "source": [
    "print(\"There is {} duplicated values in data frame\".format(CardiovascularDS.duplicated().sum()))"
   ]
  },
  {
   "cell_type": "code",
   "execution_count": 8,
   "metadata": {},
   "outputs": [
    {
     "name": "stdout",
     "output_type": "stream",
     "text": [
      "There is 0 duplicated values in data frame\n"
     ]
    }
   ],
   "source": [
    "CardiovascularDS.drop_duplicates(inplace=True)\n",
    "print(\"There is {} duplicated values in data frame\".format(CardiovascularDS.duplicated().sum()))"
   ]
  },
  {
   "cell_type": "code",
   "execution_count": 9,
   "metadata": {},
   "outputs": [
    {
     "data": {
      "text/html": [
       "<div>\n",
       "<style scoped>\n",
       "    .dataframe tbody tr th:only-of-type {\n",
       "        vertical-align: middle;\n",
       "    }\n",
       "\n",
       "    .dataframe tbody tr th {\n",
       "        vertical-align: top;\n",
       "    }\n",
       "\n",
       "    .dataframe thead th {\n",
       "        text-align: right;\n",
       "    }\n",
       "</style>\n",
       "<table border=\"1\" class=\"dataframe\">\n",
       "  <thead>\n",
       "    <tr style=\"text-align: right;\">\n",
       "      <th></th>\n",
       "      <th>age</th>\n",
       "      <th>gender</th>\n",
       "      <th>height</th>\n",
       "      <th>weight</th>\n",
       "      <th>ap_hi</th>\n",
       "      <th>ap_lo</th>\n",
       "      <th>cholesterol</th>\n",
       "      <th>gluc</th>\n",
       "      <th>smoke</th>\n",
       "      <th>alco</th>\n",
       "      <th>active</th>\n",
       "      <th>cardio</th>\n",
       "    </tr>\n",
       "  </thead>\n",
       "  <tbody>\n",
       "    <tr>\n",
       "      <td>count</td>\n",
       "      <td>69976.000000</td>\n",
       "      <td>69976.000000</td>\n",
       "      <td>69976.000000</td>\n",
       "      <td>69976.000000</td>\n",
       "      <td>69976.000000</td>\n",
       "      <td>69976.000000</td>\n",
       "      <td>69976.000000</td>\n",
       "      <td>69976.000000</td>\n",
       "      <td>69976.000000</td>\n",
       "      <td>69976.000000</td>\n",
       "      <td>69976.000000</td>\n",
       "      <td>69976.000000</td>\n",
       "    </tr>\n",
       "    <tr>\n",
       "      <td>mean</td>\n",
       "      <td>19468.950126</td>\n",
       "      <td>1.349648</td>\n",
       "      <td>164.359152</td>\n",
       "      <td>74.208519</td>\n",
       "      <td>128.820453</td>\n",
       "      <td>96.636261</td>\n",
       "      <td>1.366997</td>\n",
       "      <td>1.226535</td>\n",
       "      <td>0.088159</td>\n",
       "      <td>0.053790</td>\n",
       "      <td>0.803718</td>\n",
       "      <td>0.499771</td>\n",
       "    </tr>\n",
       "    <tr>\n",
       "      <td>std</td>\n",
       "      <td>2467.374620</td>\n",
       "      <td>0.476862</td>\n",
       "      <td>8.211218</td>\n",
       "      <td>14.397211</td>\n",
       "      <td>154.037729</td>\n",
       "      <td>188.504581</td>\n",
       "      <td>0.680333</td>\n",
       "      <td>0.572353</td>\n",
       "      <td>0.283528</td>\n",
       "      <td>0.225604</td>\n",
       "      <td>0.397187</td>\n",
       "      <td>0.500004</td>\n",
       "    </tr>\n",
       "    <tr>\n",
       "      <td>min</td>\n",
       "      <td>10798.000000</td>\n",
       "      <td>1.000000</td>\n",
       "      <td>55.000000</td>\n",
       "      <td>10.000000</td>\n",
       "      <td>-150.000000</td>\n",
       "      <td>-70.000000</td>\n",
       "      <td>1.000000</td>\n",
       "      <td>1.000000</td>\n",
       "      <td>0.000000</td>\n",
       "      <td>0.000000</td>\n",
       "      <td>0.000000</td>\n",
       "      <td>0.000000</td>\n",
       "    </tr>\n",
       "    <tr>\n",
       "      <td>25%</td>\n",
       "      <td>17664.000000</td>\n",
       "      <td>1.000000</td>\n",
       "      <td>159.000000</td>\n",
       "      <td>65.000000</td>\n",
       "      <td>120.000000</td>\n",
       "      <td>80.000000</td>\n",
       "      <td>1.000000</td>\n",
       "      <td>1.000000</td>\n",
       "      <td>0.000000</td>\n",
       "      <td>0.000000</td>\n",
       "      <td>1.000000</td>\n",
       "      <td>0.000000</td>\n",
       "    </tr>\n",
       "    <tr>\n",
       "      <td>50%</td>\n",
       "      <td>19703.000000</td>\n",
       "      <td>1.000000</td>\n",
       "      <td>165.000000</td>\n",
       "      <td>72.000000</td>\n",
       "      <td>120.000000</td>\n",
       "      <td>80.000000</td>\n",
       "      <td>1.000000</td>\n",
       "      <td>1.000000</td>\n",
       "      <td>0.000000</td>\n",
       "      <td>0.000000</td>\n",
       "      <td>1.000000</td>\n",
       "      <td>0.000000</td>\n",
       "    </tr>\n",
       "    <tr>\n",
       "      <td>75%</td>\n",
       "      <td>21327.000000</td>\n",
       "      <td>2.000000</td>\n",
       "      <td>170.000000</td>\n",
       "      <td>82.000000</td>\n",
       "      <td>140.000000</td>\n",
       "      <td>90.000000</td>\n",
       "      <td>2.000000</td>\n",
       "      <td>1.000000</td>\n",
       "      <td>0.000000</td>\n",
       "      <td>0.000000</td>\n",
       "      <td>1.000000</td>\n",
       "      <td>1.000000</td>\n",
       "    </tr>\n",
       "    <tr>\n",
       "      <td>max</td>\n",
       "      <td>23713.000000</td>\n",
       "      <td>2.000000</td>\n",
       "      <td>250.000000</td>\n",
       "      <td>200.000000</td>\n",
       "      <td>16020.000000</td>\n",
       "      <td>11000.000000</td>\n",
       "      <td>3.000000</td>\n",
       "      <td>3.000000</td>\n",
       "      <td>1.000000</td>\n",
       "      <td>1.000000</td>\n",
       "      <td>1.000000</td>\n",
       "      <td>1.000000</td>\n",
       "    </tr>\n",
       "  </tbody>\n",
       "</table>\n",
       "</div>"
      ],
      "text/plain": [
       "                age        gender        height        weight         ap_hi  \\\n",
       "count  69976.000000  69976.000000  69976.000000  69976.000000  69976.000000   \n",
       "mean   19468.950126      1.349648    164.359152     74.208519    128.820453   \n",
       "std     2467.374620      0.476862      8.211218     14.397211    154.037729   \n",
       "min    10798.000000      1.000000     55.000000     10.000000   -150.000000   \n",
       "25%    17664.000000      1.000000    159.000000     65.000000    120.000000   \n",
       "50%    19703.000000      1.000000    165.000000     72.000000    120.000000   \n",
       "75%    21327.000000      2.000000    170.000000     82.000000    140.000000   \n",
       "max    23713.000000      2.000000    250.000000    200.000000  16020.000000   \n",
       "\n",
       "              ap_lo   cholesterol          gluc         smoke          alco  \\\n",
       "count  69976.000000  69976.000000  69976.000000  69976.000000  69976.000000   \n",
       "mean      96.636261      1.366997      1.226535      0.088159      0.053790   \n",
       "std      188.504581      0.680333      0.572353      0.283528      0.225604   \n",
       "min      -70.000000      1.000000      1.000000      0.000000      0.000000   \n",
       "25%       80.000000      1.000000      1.000000      0.000000      0.000000   \n",
       "50%       80.000000      1.000000      1.000000      0.000000      0.000000   \n",
       "75%       90.000000      2.000000      1.000000      0.000000      0.000000   \n",
       "max    11000.000000      3.000000      3.000000      1.000000      1.000000   \n",
       "\n",
       "             active        cardio  \n",
       "count  69976.000000  69976.000000  \n",
       "mean       0.803718      0.499771  \n",
       "std        0.397187      0.500004  \n",
       "min        0.000000      0.000000  \n",
       "25%        1.000000      0.000000  \n",
       "50%        1.000000      0.000000  \n",
       "75%        1.000000      1.000000  \n",
       "max        1.000000      1.000000  "
      ]
     },
     "execution_count": 9,
     "metadata": {},
     "output_type": "execute_result"
    }
   ],
   "source": [
    "CardiovascularDS.describe()"
   ]
  },
  {
   "cell_type": "code",
   "execution_count": 10,
   "metadata": {},
   "outputs": [
    {
     "data": {
      "text/plain": [
       "(69976, 12)"
      ]
     },
     "execution_count": 10,
     "metadata": {},
     "output_type": "execute_result"
    }
   ],
   "source": [
    "CardiovascularDS.shape"
   ]
  },
  {
   "cell_type": "code",
   "execution_count": 11,
   "metadata": {},
   "outputs": [],
   "source": [
    "# Rename columns to make features more clearly understood\n",
    "CardiovascularDS.rename(columns={'ap_hi': 'systolic', 'ap_lo': 'diastolic', 'gluc': 'glucose', 'alco': 'alcohol', 'cardio': 'cardiovascular disease'}, inplace=True)"
   ]
  },
  {
   "cell_type": "code",
   "execution_count": 12,
   "metadata": {},
   "outputs": [
    {
     "data": {
      "text/html": [
       "<div>\n",
       "<style scoped>\n",
       "    .dataframe tbody tr th:only-of-type {\n",
       "        vertical-align: middle;\n",
       "    }\n",
       "\n",
       "    .dataframe tbody tr th {\n",
       "        vertical-align: top;\n",
       "    }\n",
       "\n",
       "    .dataframe thead th {\n",
       "        text-align: right;\n",
       "    }\n",
       "</style>\n",
       "<table border=\"1\" class=\"dataframe\">\n",
       "  <thead>\n",
       "    <tr style=\"text-align: right;\">\n",
       "      <th></th>\n",
       "      <th>age</th>\n",
       "      <th>gender</th>\n",
       "      <th>height</th>\n",
       "      <th>weight</th>\n",
       "      <th>systolic</th>\n",
       "      <th>diastolic</th>\n",
       "      <th>cholesterol</th>\n",
       "      <th>glucose</th>\n",
       "      <th>smoke</th>\n",
       "      <th>alcohol</th>\n",
       "      <th>active</th>\n",
       "      <th>cardiovascular disease</th>\n",
       "    </tr>\n",
       "  </thead>\n",
       "  <tbody>\n",
       "    <tr>\n",
       "      <td>0</td>\n",
       "      <td>18393</td>\n",
       "      <td>2</td>\n",
       "      <td>168</td>\n",
       "      <td>62.0</td>\n",
       "      <td>110</td>\n",
       "      <td>80</td>\n",
       "      <td>1</td>\n",
       "      <td>1</td>\n",
       "      <td>0</td>\n",
       "      <td>0</td>\n",
       "      <td>1</td>\n",
       "      <td>0</td>\n",
       "    </tr>\n",
       "    <tr>\n",
       "      <td>1</td>\n",
       "      <td>20228</td>\n",
       "      <td>1</td>\n",
       "      <td>156</td>\n",
       "      <td>85.0</td>\n",
       "      <td>140</td>\n",
       "      <td>90</td>\n",
       "      <td>3</td>\n",
       "      <td>1</td>\n",
       "      <td>0</td>\n",
       "      <td>0</td>\n",
       "      <td>1</td>\n",
       "      <td>1</td>\n",
       "    </tr>\n",
       "    <tr>\n",
       "      <td>2</td>\n",
       "      <td>18857</td>\n",
       "      <td>1</td>\n",
       "      <td>165</td>\n",
       "      <td>64.0</td>\n",
       "      <td>130</td>\n",
       "      <td>70</td>\n",
       "      <td>3</td>\n",
       "      <td>1</td>\n",
       "      <td>0</td>\n",
       "      <td>0</td>\n",
       "      <td>0</td>\n",
       "      <td>1</td>\n",
       "    </tr>\n",
       "    <tr>\n",
       "      <td>3</td>\n",
       "      <td>17623</td>\n",
       "      <td>2</td>\n",
       "      <td>169</td>\n",
       "      <td>82.0</td>\n",
       "      <td>150</td>\n",
       "      <td>100</td>\n",
       "      <td>1</td>\n",
       "      <td>1</td>\n",
       "      <td>0</td>\n",
       "      <td>0</td>\n",
       "      <td>1</td>\n",
       "      <td>1</td>\n",
       "    </tr>\n",
       "    <tr>\n",
       "      <td>4</td>\n",
       "      <td>17474</td>\n",
       "      <td>1</td>\n",
       "      <td>156</td>\n",
       "      <td>56.0</td>\n",
       "      <td>100</td>\n",
       "      <td>60</td>\n",
       "      <td>1</td>\n",
       "      <td>1</td>\n",
       "      <td>0</td>\n",
       "      <td>0</td>\n",
       "      <td>0</td>\n",
       "      <td>0</td>\n",
       "    </tr>\n",
       "  </tbody>\n",
       "</table>\n",
       "</div>"
      ],
      "text/plain": [
       "     age  gender  height  weight  systolic  diastolic  cholesterol  glucose  \\\n",
       "0  18393       2     168    62.0       110         80            1        1   \n",
       "1  20228       1     156    85.0       140         90            3        1   \n",
       "2  18857       1     165    64.0       130         70            3        1   \n",
       "3  17623       2     169    82.0       150        100            1        1   \n",
       "4  17474       1     156    56.0       100         60            1        1   \n",
       "\n",
       "   smoke  alcohol  active  cardiovascular disease  \n",
       "0      0        0       1                       0  \n",
       "1      0        0       1                       1  \n",
       "2      0        0       0                       1  \n",
       "3      0        0       1                       1  \n",
       "4      0        0       0                       0  "
      ]
     },
     "execution_count": 12,
     "metadata": {},
     "output_type": "execute_result"
    }
   ],
   "source": [
    "CardiovascularDS.head()"
   ]
  },
  {
   "cell_type": "markdown",
   "metadata": {},
   "source": [
    "To Identify Gender (Male ,Female) , we will check the High and Alcohole features , as Male are more hight than femal and dring more alchohle than female"
   ]
  },
  {
   "cell_type": "code",
   "execution_count": 13,
   "metadata": {},
   "outputs": [
    {
     "data": {
      "text/plain": [
       "gender\n",
       "1    161.354347\n",
       "2    169.948134\n",
       "Name: height, dtype: float64"
      ]
     },
     "execution_count": 13,
     "metadata": {},
     "output_type": "execute_result"
    }
   ],
   "source": [
    "CardiovascularDS.groupby('gender')['height'].mean()"
   ]
  },
  {
   "cell_type": "code",
   "execution_count": 14,
   "metadata": {},
   "outputs": [
    {
     "data": {
      "text/plain": [
       "gender\n",
       "1    1161\n",
       "2    2603\n",
       "Name: alcohol, dtype: int64"
      ]
     },
     "execution_count": 14,
     "metadata": {},
     "output_type": "execute_result"
    }
   ],
   "source": [
    "CardiovascularDS.groupby('gender')['alcohol'].sum()"
   ]
  },
  {
   "cell_type": "code",
   "execution_count": 15,
   "metadata": {},
   "outputs": [
    {
     "data": {
      "text/html": [
       "<div>\n",
       "<style scoped>\n",
       "    .dataframe tbody tr th:only-of-type {\n",
       "        vertical-align: middle;\n",
       "    }\n",
       "\n",
       "    .dataframe tbody tr th {\n",
       "        vertical-align: top;\n",
       "    }\n",
       "\n",
       "    .dataframe thead th {\n",
       "        text-align: right;\n",
       "    }\n",
       "</style>\n",
       "<table border=\"1\" class=\"dataframe\">\n",
       "  <thead>\n",
       "    <tr style=\"text-align: right;\">\n",
       "      <th>gender</th>\n",
       "      <th>1</th>\n",
       "      <th>2</th>\n",
       "    </tr>\n",
       "    <tr>\n",
       "      <th>cardiovascular disease</th>\n",
       "      <th></th>\n",
       "      <th></th>\n",
       "    </tr>\n",
       "  </thead>\n",
       "  <tbody>\n",
       "    <tr>\n",
       "      <td>0</td>\n",
       "      <td>0.327241</td>\n",
       "      <td>0.172988</td>\n",
       "    </tr>\n",
       "    <tr>\n",
       "      <td>1</td>\n",
       "      <td>0.323111</td>\n",
       "      <td>0.176661</td>\n",
       "    </tr>\n",
       "  </tbody>\n",
       "</table>\n",
       "</div>"
      ],
      "text/plain": [
       "gender                         1         2\n",
       "cardiovascular disease                    \n",
       "0                       0.327241  0.172988\n",
       "1                       0.323111  0.176661"
      ]
     },
     "execution_count": 15,
     "metadata": {},
     "output_type": "execute_result"
    }
   ],
   "source": [
    "#To see how the target class is distributed among men and women, we can use also crosstab\n",
    "\n",
    "pd.crosstab(CardiovascularDS['cardiovascular disease'],CardiovascularDS['gender'],normalize=True)"
   ]
  },
  {
   "cell_type": "markdown",
   "metadata": {},
   "source": [
    "2 Is Male and 1 is female"
   ]
  },
  {
   "cell_type": "code",
   "execution_count": 16,
   "metadata": {},
   "outputs": [],
   "source": [
    "# Extact a new feild Year  from age feild, where the age represent number of days\n",
    "\n",
    "CardiovascularDS['age_year'] = (CardiovascularDS['age'] / 365).round().astype('int')"
   ]
  },
  {
   "cell_type": "code",
   "execution_count": 17,
   "metadata": {},
   "outputs": [
    {
     "data": {
      "text/html": [
       "<div>\n",
       "<style scoped>\n",
       "    .dataframe tbody tr th:only-of-type {\n",
       "        vertical-align: middle;\n",
       "    }\n",
       "\n",
       "    .dataframe tbody tr th {\n",
       "        vertical-align: top;\n",
       "    }\n",
       "\n",
       "    .dataframe thead th {\n",
       "        text-align: right;\n",
       "    }\n",
       "</style>\n",
       "<table border=\"1\" class=\"dataframe\">\n",
       "  <thead>\n",
       "    <tr style=\"text-align: right;\">\n",
       "      <th></th>\n",
       "      <th>age</th>\n",
       "      <th>gender</th>\n",
       "      <th>height</th>\n",
       "      <th>weight</th>\n",
       "      <th>systolic</th>\n",
       "      <th>diastolic</th>\n",
       "      <th>cholesterol</th>\n",
       "      <th>glucose</th>\n",
       "      <th>smoke</th>\n",
       "      <th>alcohol</th>\n",
       "      <th>active</th>\n",
       "      <th>cardiovascular disease</th>\n",
       "      <th>age_year</th>\n",
       "    </tr>\n",
       "  </thead>\n",
       "  <tbody>\n",
       "    <tr>\n",
       "      <td>0</td>\n",
       "      <td>18393</td>\n",
       "      <td>2</td>\n",
       "      <td>168</td>\n",
       "      <td>62.0</td>\n",
       "      <td>110</td>\n",
       "      <td>80</td>\n",
       "      <td>1</td>\n",
       "      <td>1</td>\n",
       "      <td>0</td>\n",
       "      <td>0</td>\n",
       "      <td>1</td>\n",
       "      <td>0</td>\n",
       "      <td>50</td>\n",
       "    </tr>\n",
       "    <tr>\n",
       "      <td>1</td>\n",
       "      <td>20228</td>\n",
       "      <td>1</td>\n",
       "      <td>156</td>\n",
       "      <td>85.0</td>\n",
       "      <td>140</td>\n",
       "      <td>90</td>\n",
       "      <td>3</td>\n",
       "      <td>1</td>\n",
       "      <td>0</td>\n",
       "      <td>0</td>\n",
       "      <td>1</td>\n",
       "      <td>1</td>\n",
       "      <td>55</td>\n",
       "    </tr>\n",
       "    <tr>\n",
       "      <td>2</td>\n",
       "      <td>18857</td>\n",
       "      <td>1</td>\n",
       "      <td>165</td>\n",
       "      <td>64.0</td>\n",
       "      <td>130</td>\n",
       "      <td>70</td>\n",
       "      <td>3</td>\n",
       "      <td>1</td>\n",
       "      <td>0</td>\n",
       "      <td>0</td>\n",
       "      <td>0</td>\n",
       "      <td>1</td>\n",
       "      <td>52</td>\n",
       "    </tr>\n",
       "    <tr>\n",
       "      <td>3</td>\n",
       "      <td>17623</td>\n",
       "      <td>2</td>\n",
       "      <td>169</td>\n",
       "      <td>82.0</td>\n",
       "      <td>150</td>\n",
       "      <td>100</td>\n",
       "      <td>1</td>\n",
       "      <td>1</td>\n",
       "      <td>0</td>\n",
       "      <td>0</td>\n",
       "      <td>1</td>\n",
       "      <td>1</td>\n",
       "      <td>48</td>\n",
       "    </tr>\n",
       "    <tr>\n",
       "      <td>4</td>\n",
       "      <td>17474</td>\n",
       "      <td>1</td>\n",
       "      <td>156</td>\n",
       "      <td>56.0</td>\n",
       "      <td>100</td>\n",
       "      <td>60</td>\n",
       "      <td>1</td>\n",
       "      <td>1</td>\n",
       "      <td>0</td>\n",
       "      <td>0</td>\n",
       "      <td>0</td>\n",
       "      <td>0</td>\n",
       "      <td>48</td>\n",
       "    </tr>\n",
       "  </tbody>\n",
       "</table>\n",
       "</div>"
      ],
      "text/plain": [
       "     age  gender  height  weight  systolic  diastolic  cholesterol  glucose  \\\n",
       "0  18393       2     168    62.0       110         80            1        1   \n",
       "1  20228       1     156    85.0       140         90            3        1   \n",
       "2  18857       1     165    64.0       130         70            3        1   \n",
       "3  17623       2     169    82.0       150        100            1        1   \n",
       "4  17474       1     156    56.0       100         60            1        1   \n",
       "\n",
       "   smoke  alcohol  active  cardiovascular disease  age_year  \n",
       "0      0        0       1                       0        50  \n",
       "1      0        0       1                       1        55  \n",
       "2      0        0       0                       1        52  \n",
       "3      0        0       1                       1        48  \n",
       "4      0        0       0                       0        48  "
      ]
     },
     "execution_count": 17,
     "metadata": {},
     "output_type": "execute_result"
    }
   ],
   "source": [
    "CardiovascularDS.head()"
   ]
  },
  {
   "cell_type": "code",
   "execution_count": 18,
   "metadata": {},
   "outputs": [],
   "source": [
    "\n",
    "# According to US National Library of Medicine National Institutes of Health the age groups are classified\n",
    "def age_category(age):\n",
    "  if 0 < age <= 2:\n",
    "    return \"Infants\"\n",
    "  elif 2 < age <= 5:\n",
    "    return \"Pre School Child\"\n",
    "  elif 5 < age <= 12:\n",
    "    return \"Child\"\n",
    "  elif 12 < age <= 19:\n",
    "    return \"Adolescent\"\n",
    "  elif 19 < age <= 24:\n",
    "    return \"Young Adult\"\n",
    "  elif 24 < age <= 44:\n",
    "    return \"Adult\"\n",
    "  elif 44 < age <= 65:\n",
    "    return \"Middle Aged\"\n",
    "  elif 65 < age:\n",
    "    return \"Aged\"\n"
   ]
  },
  {
   "cell_type": "code",
   "execution_count": 19,
   "metadata": {},
   "outputs": [],
   "source": [
    "\n",
    "def age_tees_categorize(age):\n",
    "  if 0 < age <= 10:\n",
    "    return \"10s\"\n",
    "  elif 10 < age <= 30:\n",
    "    return \"20s\"\n",
    "  elif 20 < age <= 30:\n",
    "    return \"30s\"\n",
    "  elif 30 < age <= 40:\n",
    "    return \"40s\"\n",
    "  elif 40 < age <= 50:\n",
    "    return \"50s\"\n",
    "  elif 50 < age <= 60:\n",
    "    return \"60s\"\n",
    "  elif 60 < age <= 70:\n",
    "    return \"70+\""
   ]
  },
  {
   "cell_type": "code",
   "execution_count": 20,
   "metadata": {},
   "outputs": [],
   "source": [
    "def cardiovasculardisease_categorize(v_cardiovasculardisease):\n",
    "  if v_cardiovasculardisease==0:\n",
    "    return \"Not Have CVD\"\n",
    "  elif v_cardiovasculardisease==1:\n",
    "    return \"Have CVD\"\n",
    "  "
   ]
  },
  {
   "cell_type": "code",
   "execution_count": 21,
   "metadata": {},
   "outputs": [],
   "source": [
    "def gender_categorize(v_gender):\n",
    "  if v_gender==2:\n",
    "    return \"Male\"\n",
    "  elif v_gender==1:\n",
    "    return \"Female\""
   ]
  },
  {
   "cell_type": "code",
   "execution_count": 22,
   "metadata": {},
   "outputs": [],
   "source": [
    "def smoke_categorize(v_smoke):\n",
    "  if v_smoke==0:\n",
    "    return \"Not a Smoker\"\n",
    "  elif v_smoke==1:\n",
    "    return \"Smoker\""
   ]
  },
  {
   "cell_type": "code",
   "execution_count": 23,
   "metadata": {},
   "outputs": [],
   "source": [
    "def alchoalic_categorize(v_alchoalic):\n",
    "  if v_alchoalic==0:\n",
    "    return \"Not a Alchoalic\"\n",
    "  elif v_alchoalic==1:\n",
    "    return \"Alchoalic\""
   ]
  },
  {
   "cell_type": "code",
   "execution_count": 24,
   "metadata": {},
   "outputs": [],
   "source": [
    "def Glucose_categorize(v_Glucose):\n",
    "  if v_Glucose==1:\n",
    "    return \"normal\"\n",
    "  elif v_Glucose==2:\n",
    "    return \"above normal\"\n",
    "  elif v_Glucose==3:\n",
    "    return \"well above normal\""
   ]
  },
  {
   "cell_type": "code",
   "execution_count": 25,
   "metadata": {},
   "outputs": [],
   "source": [
    "def cholesterol_categorize(v_cholesterol):\n",
    "  if v_cholesterol==1:\n",
    "    return \"normal\"\n",
    "  elif v_cholesterol==2:\n",
    "    return \"above normal\"\n",
    "  elif v_cholesterol==3:\n",
    "    return \"well above normal\""
   ]
  },
  {
   "cell_type": "code",
   "execution_count": 26,
   "metadata": {},
   "outputs": [],
   "source": [
    "def Active_categorize(v_active):\n",
    "  if v_active==0:\n",
    "    return \"Not involved in Physical Activites'\"\n",
    "  elif v_active==1:\n",
    "    return \"involved in physical activites'\"\n",
    "  "
   ]
  },
  {
   "cell_type": "code",
   "execution_count": 27,
   "metadata": {},
   "outputs": [
    {
     "data": {
      "text/html": [
       "<div>\n",
       "<style scoped>\n",
       "    .dataframe tbody tr th:only-of-type {\n",
       "        vertical-align: middle;\n",
       "    }\n",
       "\n",
       "    .dataframe tbody tr th {\n",
       "        vertical-align: top;\n",
       "    }\n",
       "\n",
       "    .dataframe thead th {\n",
       "        text-align: right;\n",
       "    }\n",
       "</style>\n",
       "<table border=\"1\" class=\"dataframe\">\n",
       "  <thead>\n",
       "    <tr style=\"text-align: right;\">\n",
       "      <th></th>\n",
       "      <th>age</th>\n",
       "      <th>gender</th>\n",
       "      <th>height</th>\n",
       "      <th>weight</th>\n",
       "      <th>systolic</th>\n",
       "      <th>diastolic</th>\n",
       "      <th>cholesterol</th>\n",
       "      <th>glucose</th>\n",
       "      <th>smoke</th>\n",
       "      <th>alcohol</th>\n",
       "      <th>active</th>\n",
       "      <th>cardiovascular disease</th>\n",
       "      <th>age_year</th>\n",
       "      <th>age_cat</th>\n",
       "      <th>age_tees</th>\n",
       "    </tr>\n",
       "  </thead>\n",
       "  <tbody>\n",
       "    <tr>\n",
       "      <td>0</td>\n",
       "      <td>18393</td>\n",
       "      <td>2</td>\n",
       "      <td>168</td>\n",
       "      <td>62.0</td>\n",
       "      <td>110</td>\n",
       "      <td>80</td>\n",
       "      <td>1</td>\n",
       "      <td>1</td>\n",
       "      <td>0</td>\n",
       "      <td>0</td>\n",
       "      <td>1</td>\n",
       "      <td>0</td>\n",
       "      <td>50</td>\n",
       "      <td>Middle Aged</td>\n",
       "      <td>50s</td>\n",
       "    </tr>\n",
       "    <tr>\n",
       "      <td>1</td>\n",
       "      <td>20228</td>\n",
       "      <td>1</td>\n",
       "      <td>156</td>\n",
       "      <td>85.0</td>\n",
       "      <td>140</td>\n",
       "      <td>90</td>\n",
       "      <td>3</td>\n",
       "      <td>1</td>\n",
       "      <td>0</td>\n",
       "      <td>0</td>\n",
       "      <td>1</td>\n",
       "      <td>1</td>\n",
       "      <td>55</td>\n",
       "      <td>Middle Aged</td>\n",
       "      <td>60s</td>\n",
       "    </tr>\n",
       "    <tr>\n",
       "      <td>2</td>\n",
       "      <td>18857</td>\n",
       "      <td>1</td>\n",
       "      <td>165</td>\n",
       "      <td>64.0</td>\n",
       "      <td>130</td>\n",
       "      <td>70</td>\n",
       "      <td>3</td>\n",
       "      <td>1</td>\n",
       "      <td>0</td>\n",
       "      <td>0</td>\n",
       "      <td>0</td>\n",
       "      <td>1</td>\n",
       "      <td>52</td>\n",
       "      <td>Middle Aged</td>\n",
       "      <td>60s</td>\n",
       "    </tr>\n",
       "    <tr>\n",
       "      <td>3</td>\n",
       "      <td>17623</td>\n",
       "      <td>2</td>\n",
       "      <td>169</td>\n",
       "      <td>82.0</td>\n",
       "      <td>150</td>\n",
       "      <td>100</td>\n",
       "      <td>1</td>\n",
       "      <td>1</td>\n",
       "      <td>0</td>\n",
       "      <td>0</td>\n",
       "      <td>1</td>\n",
       "      <td>1</td>\n",
       "      <td>48</td>\n",
       "      <td>Middle Aged</td>\n",
       "      <td>50s</td>\n",
       "    </tr>\n",
       "    <tr>\n",
       "      <td>4</td>\n",
       "      <td>17474</td>\n",
       "      <td>1</td>\n",
       "      <td>156</td>\n",
       "      <td>56.0</td>\n",
       "      <td>100</td>\n",
       "      <td>60</td>\n",
       "      <td>1</td>\n",
       "      <td>1</td>\n",
       "      <td>0</td>\n",
       "      <td>0</td>\n",
       "      <td>0</td>\n",
       "      <td>0</td>\n",
       "      <td>48</td>\n",
       "      <td>Middle Aged</td>\n",
       "      <td>50s</td>\n",
       "    </tr>\n",
       "  </tbody>\n",
       "</table>\n",
       "</div>"
      ],
      "text/plain": [
       "     age  gender  height  weight  systolic  diastolic  cholesterol  glucose  \\\n",
       "0  18393       2     168    62.0       110         80            1        1   \n",
       "1  20228       1     156    85.0       140         90            3        1   \n",
       "2  18857       1     165    64.0       130         70            3        1   \n",
       "3  17623       2     169    82.0       150        100            1        1   \n",
       "4  17474       1     156    56.0       100         60            1        1   \n",
       "\n",
       "   smoke  alcohol  active  cardiovascular disease  age_year      age_cat  \\\n",
       "0      0        0       1                       0        50  Middle Aged   \n",
       "1      0        0       1                       1        55  Middle Aged   \n",
       "2      0        0       0                       1        52  Middle Aged   \n",
       "3      0        0       1                       1        48  Middle Aged   \n",
       "4      0        0       0                       0        48  Middle Aged   \n",
       "\n",
       "  age_tees  \n",
       "0      50s  \n",
       "1      60s  \n",
       "2      60s  \n",
       "3      50s  \n",
       "4      50s  "
      ]
     },
     "execution_count": 27,
     "metadata": {},
     "output_type": "execute_result"
    }
   ],
   "source": [
    "CardiovascularDS['age_cat'] = CardiovascularDS['age_year'].apply(lambda x: age_category(x))\n",
    "CardiovascularDS['age_tees'] = CardiovascularDS['age_year'].apply(lambda x: age_tees_categorize(x))\n",
    "CardiovascularDS.head()"
   ]
  },
  {
   "cell_type": "code",
   "execution_count": 28,
   "metadata": {},
   "outputs": [
    {
     "data": {
      "text/html": [
       "<div>\n",
       "<style scoped>\n",
       "    .dataframe tbody tr th:only-of-type {\n",
       "        vertical-align: middle;\n",
       "    }\n",
       "\n",
       "    .dataframe tbody tr th {\n",
       "        vertical-align: top;\n",
       "    }\n",
       "\n",
       "    .dataframe thead th {\n",
       "        text-align: right;\n",
       "    }\n",
       "</style>\n",
       "<table border=\"1\" class=\"dataframe\">\n",
       "  <thead>\n",
       "    <tr style=\"text-align: right;\">\n",
       "      <th></th>\n",
       "      <th>age</th>\n",
       "      <th>gender</th>\n",
       "      <th>height</th>\n",
       "      <th>weight</th>\n",
       "      <th>systolic</th>\n",
       "      <th>diastolic</th>\n",
       "      <th>cholesterol</th>\n",
       "      <th>glucose</th>\n",
       "      <th>smoke</th>\n",
       "      <th>alcohol</th>\n",
       "      <th>...</th>\n",
       "      <th>cardiovascular disease</th>\n",
       "      <th>age_year</th>\n",
       "      <th>age_cat</th>\n",
       "      <th>age_tees</th>\n",
       "      <th>CVD_cat</th>\n",
       "      <th>Gender_cat</th>\n",
       "      <th>smoke_cat</th>\n",
       "      <th>alchoalic_cat</th>\n",
       "      <th>Glucose_cat</th>\n",
       "      <th>cholesterol_cat</th>\n",
       "    </tr>\n",
       "  </thead>\n",
       "  <tbody>\n",
       "    <tr>\n",
       "      <td>0</td>\n",
       "      <td>18393</td>\n",
       "      <td>2</td>\n",
       "      <td>168</td>\n",
       "      <td>62.0</td>\n",
       "      <td>110</td>\n",
       "      <td>80</td>\n",
       "      <td>1</td>\n",
       "      <td>1</td>\n",
       "      <td>0</td>\n",
       "      <td>0</td>\n",
       "      <td>...</td>\n",
       "      <td>0</td>\n",
       "      <td>50</td>\n",
       "      <td>Middle Aged</td>\n",
       "      <td>50s</td>\n",
       "      <td>Not Have CVD</td>\n",
       "      <td>Male</td>\n",
       "      <td>Not a Smoker</td>\n",
       "      <td>Not a Alchoalic</td>\n",
       "      <td>normal</td>\n",
       "      <td>normal</td>\n",
       "    </tr>\n",
       "    <tr>\n",
       "      <td>1</td>\n",
       "      <td>20228</td>\n",
       "      <td>1</td>\n",
       "      <td>156</td>\n",
       "      <td>85.0</td>\n",
       "      <td>140</td>\n",
       "      <td>90</td>\n",
       "      <td>3</td>\n",
       "      <td>1</td>\n",
       "      <td>0</td>\n",
       "      <td>0</td>\n",
       "      <td>...</td>\n",
       "      <td>1</td>\n",
       "      <td>55</td>\n",
       "      <td>Middle Aged</td>\n",
       "      <td>60s</td>\n",
       "      <td>Have CVD</td>\n",
       "      <td>Female</td>\n",
       "      <td>Not a Smoker</td>\n",
       "      <td>Not a Alchoalic</td>\n",
       "      <td>normal</td>\n",
       "      <td>well above normal</td>\n",
       "    </tr>\n",
       "    <tr>\n",
       "      <td>2</td>\n",
       "      <td>18857</td>\n",
       "      <td>1</td>\n",
       "      <td>165</td>\n",
       "      <td>64.0</td>\n",
       "      <td>130</td>\n",
       "      <td>70</td>\n",
       "      <td>3</td>\n",
       "      <td>1</td>\n",
       "      <td>0</td>\n",
       "      <td>0</td>\n",
       "      <td>...</td>\n",
       "      <td>1</td>\n",
       "      <td>52</td>\n",
       "      <td>Middle Aged</td>\n",
       "      <td>60s</td>\n",
       "      <td>Have CVD</td>\n",
       "      <td>Female</td>\n",
       "      <td>Not a Smoker</td>\n",
       "      <td>Not a Alchoalic</td>\n",
       "      <td>normal</td>\n",
       "      <td>well above normal</td>\n",
       "    </tr>\n",
       "    <tr>\n",
       "      <td>3</td>\n",
       "      <td>17623</td>\n",
       "      <td>2</td>\n",
       "      <td>169</td>\n",
       "      <td>82.0</td>\n",
       "      <td>150</td>\n",
       "      <td>100</td>\n",
       "      <td>1</td>\n",
       "      <td>1</td>\n",
       "      <td>0</td>\n",
       "      <td>0</td>\n",
       "      <td>...</td>\n",
       "      <td>1</td>\n",
       "      <td>48</td>\n",
       "      <td>Middle Aged</td>\n",
       "      <td>50s</td>\n",
       "      <td>Have CVD</td>\n",
       "      <td>Male</td>\n",
       "      <td>Not a Smoker</td>\n",
       "      <td>Not a Alchoalic</td>\n",
       "      <td>normal</td>\n",
       "      <td>normal</td>\n",
       "    </tr>\n",
       "    <tr>\n",
       "      <td>4</td>\n",
       "      <td>17474</td>\n",
       "      <td>1</td>\n",
       "      <td>156</td>\n",
       "      <td>56.0</td>\n",
       "      <td>100</td>\n",
       "      <td>60</td>\n",
       "      <td>1</td>\n",
       "      <td>1</td>\n",
       "      <td>0</td>\n",
       "      <td>0</td>\n",
       "      <td>...</td>\n",
       "      <td>0</td>\n",
       "      <td>48</td>\n",
       "      <td>Middle Aged</td>\n",
       "      <td>50s</td>\n",
       "      <td>Not Have CVD</td>\n",
       "      <td>Female</td>\n",
       "      <td>Not a Smoker</td>\n",
       "      <td>Not a Alchoalic</td>\n",
       "      <td>normal</td>\n",
       "      <td>normal</td>\n",
       "    </tr>\n",
       "  </tbody>\n",
       "</table>\n",
       "<p>5 rows × 21 columns</p>\n",
       "</div>"
      ],
      "text/plain": [
       "     age  gender  height  weight  systolic  diastolic  cholesterol  glucose  \\\n",
       "0  18393       2     168    62.0       110         80            1        1   \n",
       "1  20228       1     156    85.0       140         90            3        1   \n",
       "2  18857       1     165    64.0       130         70            3        1   \n",
       "3  17623       2     169    82.0       150        100            1        1   \n",
       "4  17474       1     156    56.0       100         60            1        1   \n",
       "\n",
       "   smoke  alcohol  ...  cardiovascular disease  age_year      age_cat  \\\n",
       "0      0        0  ...                       0        50  Middle Aged   \n",
       "1      0        0  ...                       1        55  Middle Aged   \n",
       "2      0        0  ...                       1        52  Middle Aged   \n",
       "3      0        0  ...                       1        48  Middle Aged   \n",
       "4      0        0  ...                       0        48  Middle Aged   \n",
       "\n",
       "  age_tees       CVD_cat Gender_cat     smoke_cat    alchoalic_cat  \\\n",
       "0      50s  Not Have CVD       Male  Not a Smoker  Not a Alchoalic   \n",
       "1      60s      Have CVD     Female  Not a Smoker  Not a Alchoalic   \n",
       "2      60s      Have CVD     Female  Not a Smoker  Not a Alchoalic   \n",
       "3      50s      Have CVD       Male  Not a Smoker  Not a Alchoalic   \n",
       "4      50s  Not Have CVD     Female  Not a Smoker  Not a Alchoalic   \n",
       "\n",
       "  Glucose_cat    cholesterol_cat  \n",
       "0      normal             normal  \n",
       "1      normal  well above normal  \n",
       "2      normal  well above normal  \n",
       "3      normal             normal  \n",
       "4      normal             normal  \n",
       "\n",
       "[5 rows x 21 columns]"
      ]
     },
     "execution_count": 28,
     "metadata": {},
     "output_type": "execute_result"
    }
   ],
   "source": [
    "CardiovascularDS['CVD_cat'] = CardiovascularDS['cardiovascular disease'].apply(lambda x: cardiovasculardisease_categorize(x))\n",
    "CardiovascularDS['Gender_cat'] = CardiovascularDS['gender'].apply(lambda x: gender_categorize(x))\n",
    "CardiovascularDS['smoke_cat'] = CardiovascularDS['smoke'].apply(lambda x: smoke_categorize(x))\n",
    "CardiovascularDS['alchoalic_cat'] = CardiovascularDS['alcohol'].apply(lambda x: alchoalic_categorize(x))\n",
    "CardiovascularDS['Glucose_cat'] = CardiovascularDS['glucose'].apply(lambda x: Glucose_categorize(x))\n",
    "CardiovascularDS['cholesterol_cat'] = CardiovascularDS['cholesterol'].apply(lambda x: cholesterol_categorize(x))\n",
    "CardiovascularDS.head()"
   ]
  },
  {
   "cell_type": "code",
   "execution_count": 29,
   "metadata": {},
   "outputs": [
    {
     "data": {
      "text/html": [
       "<div>\n",
       "<style scoped>\n",
       "    .dataframe tbody tr th:only-of-type {\n",
       "        vertical-align: middle;\n",
       "    }\n",
       "\n",
       "    .dataframe tbody tr th {\n",
       "        vertical-align: top;\n",
       "    }\n",
       "\n",
       "    .dataframe thead th {\n",
       "        text-align: right;\n",
       "    }\n",
       "</style>\n",
       "<table border=\"1\" class=\"dataframe\">\n",
       "  <thead>\n",
       "    <tr style=\"text-align: right;\">\n",
       "      <th></th>\n",
       "      <th>age</th>\n",
       "      <th>gender</th>\n",
       "      <th>height</th>\n",
       "      <th>weight</th>\n",
       "      <th>systolic</th>\n",
       "      <th>diastolic</th>\n",
       "      <th>cholesterol</th>\n",
       "      <th>glucose</th>\n",
       "      <th>smoke</th>\n",
       "      <th>alcohol</th>\n",
       "      <th>...</th>\n",
       "      <th>age_year</th>\n",
       "      <th>age_cat</th>\n",
       "      <th>age_tees</th>\n",
       "      <th>CVD_cat</th>\n",
       "      <th>Gender_cat</th>\n",
       "      <th>smoke_cat</th>\n",
       "      <th>alchoalic_cat</th>\n",
       "      <th>Glucose_cat</th>\n",
       "      <th>cholesterol_cat</th>\n",
       "      <th>active_cat</th>\n",
       "    </tr>\n",
       "  </thead>\n",
       "  <tbody>\n",
       "    <tr>\n",
       "      <td>0</td>\n",
       "      <td>18393</td>\n",
       "      <td>2</td>\n",
       "      <td>168</td>\n",
       "      <td>62.0</td>\n",
       "      <td>110</td>\n",
       "      <td>80</td>\n",
       "      <td>1</td>\n",
       "      <td>1</td>\n",
       "      <td>0</td>\n",
       "      <td>0</td>\n",
       "      <td>...</td>\n",
       "      <td>50</td>\n",
       "      <td>Middle Aged</td>\n",
       "      <td>50s</td>\n",
       "      <td>Not Have CVD</td>\n",
       "      <td>Male</td>\n",
       "      <td>Not a Smoker</td>\n",
       "      <td>Not a Alchoalic</td>\n",
       "      <td>normal</td>\n",
       "      <td>normal</td>\n",
       "      <td>involved in physical activites'</td>\n",
       "    </tr>\n",
       "    <tr>\n",
       "      <td>1</td>\n",
       "      <td>20228</td>\n",
       "      <td>1</td>\n",
       "      <td>156</td>\n",
       "      <td>85.0</td>\n",
       "      <td>140</td>\n",
       "      <td>90</td>\n",
       "      <td>3</td>\n",
       "      <td>1</td>\n",
       "      <td>0</td>\n",
       "      <td>0</td>\n",
       "      <td>...</td>\n",
       "      <td>55</td>\n",
       "      <td>Middle Aged</td>\n",
       "      <td>60s</td>\n",
       "      <td>Have CVD</td>\n",
       "      <td>Female</td>\n",
       "      <td>Not a Smoker</td>\n",
       "      <td>Not a Alchoalic</td>\n",
       "      <td>normal</td>\n",
       "      <td>well above normal</td>\n",
       "      <td>involved in physical activites'</td>\n",
       "    </tr>\n",
       "    <tr>\n",
       "      <td>2</td>\n",
       "      <td>18857</td>\n",
       "      <td>1</td>\n",
       "      <td>165</td>\n",
       "      <td>64.0</td>\n",
       "      <td>130</td>\n",
       "      <td>70</td>\n",
       "      <td>3</td>\n",
       "      <td>1</td>\n",
       "      <td>0</td>\n",
       "      <td>0</td>\n",
       "      <td>...</td>\n",
       "      <td>52</td>\n",
       "      <td>Middle Aged</td>\n",
       "      <td>60s</td>\n",
       "      <td>Have CVD</td>\n",
       "      <td>Female</td>\n",
       "      <td>Not a Smoker</td>\n",
       "      <td>Not a Alchoalic</td>\n",
       "      <td>normal</td>\n",
       "      <td>well above normal</td>\n",
       "      <td>Not involved in Physical Activites'</td>\n",
       "    </tr>\n",
       "    <tr>\n",
       "      <td>3</td>\n",
       "      <td>17623</td>\n",
       "      <td>2</td>\n",
       "      <td>169</td>\n",
       "      <td>82.0</td>\n",
       "      <td>150</td>\n",
       "      <td>100</td>\n",
       "      <td>1</td>\n",
       "      <td>1</td>\n",
       "      <td>0</td>\n",
       "      <td>0</td>\n",
       "      <td>...</td>\n",
       "      <td>48</td>\n",
       "      <td>Middle Aged</td>\n",
       "      <td>50s</td>\n",
       "      <td>Have CVD</td>\n",
       "      <td>Male</td>\n",
       "      <td>Not a Smoker</td>\n",
       "      <td>Not a Alchoalic</td>\n",
       "      <td>normal</td>\n",
       "      <td>normal</td>\n",
       "      <td>involved in physical activites'</td>\n",
       "    </tr>\n",
       "    <tr>\n",
       "      <td>4</td>\n",
       "      <td>17474</td>\n",
       "      <td>1</td>\n",
       "      <td>156</td>\n",
       "      <td>56.0</td>\n",
       "      <td>100</td>\n",
       "      <td>60</td>\n",
       "      <td>1</td>\n",
       "      <td>1</td>\n",
       "      <td>0</td>\n",
       "      <td>0</td>\n",
       "      <td>...</td>\n",
       "      <td>48</td>\n",
       "      <td>Middle Aged</td>\n",
       "      <td>50s</td>\n",
       "      <td>Not Have CVD</td>\n",
       "      <td>Female</td>\n",
       "      <td>Not a Smoker</td>\n",
       "      <td>Not a Alchoalic</td>\n",
       "      <td>normal</td>\n",
       "      <td>normal</td>\n",
       "      <td>Not involved in Physical Activites'</td>\n",
       "    </tr>\n",
       "  </tbody>\n",
       "</table>\n",
       "<p>5 rows × 22 columns</p>\n",
       "</div>"
      ],
      "text/plain": [
       "     age  gender  height  weight  systolic  diastolic  cholesterol  glucose  \\\n",
       "0  18393       2     168    62.0       110         80            1        1   \n",
       "1  20228       1     156    85.0       140         90            3        1   \n",
       "2  18857       1     165    64.0       130         70            3        1   \n",
       "3  17623       2     169    82.0       150        100            1        1   \n",
       "4  17474       1     156    56.0       100         60            1        1   \n",
       "\n",
       "   smoke  alcohol  ...  age_year      age_cat  age_tees       CVD_cat  \\\n",
       "0      0        0  ...        50  Middle Aged       50s  Not Have CVD   \n",
       "1      0        0  ...        55  Middle Aged       60s      Have CVD   \n",
       "2      0        0  ...        52  Middle Aged       60s      Have CVD   \n",
       "3      0        0  ...        48  Middle Aged       50s      Have CVD   \n",
       "4      0        0  ...        48  Middle Aged       50s  Not Have CVD   \n",
       "\n",
       "  Gender_cat     smoke_cat    alchoalic_cat Glucose_cat    cholesterol_cat  \\\n",
       "0       Male  Not a Smoker  Not a Alchoalic      normal             normal   \n",
       "1     Female  Not a Smoker  Not a Alchoalic      normal  well above normal   \n",
       "2     Female  Not a Smoker  Not a Alchoalic      normal  well above normal   \n",
       "3       Male  Not a Smoker  Not a Alchoalic      normal             normal   \n",
       "4     Female  Not a Smoker  Not a Alchoalic      normal             normal   \n",
       "\n",
       "                            active_cat  \n",
       "0      involved in physical activites'  \n",
       "1      involved in physical activites'  \n",
       "2  Not involved in Physical Activites'  \n",
       "3      involved in physical activites'  \n",
       "4  Not involved in Physical Activites'  \n",
       "\n",
       "[5 rows x 22 columns]"
      ]
     },
     "execution_count": 29,
     "metadata": {},
     "output_type": "execute_result"
    }
   ],
   "source": [
    "CardiovascularDS['active_cat'] = CardiovascularDS['active'].apply(lambda x: Active_categorize(x))\n",
    "CardiovascularDS.head()"
   ]
  },
  {
   "cell_type": "markdown",
   "metadata": {},
   "source": [
    "Filter out the following patient segments (we consider these as erroneous data)\n",
    "\n",
    "diastolic pressure is higher than systolic\n",
    "height is strictly less than 2.5 percentile (Use pd.Series.quantile to compute this value. If you are not familiar with the function, please read the docs.)\n",
    "height is strictly more than 97.5 percentile\n",
    "weight is strictly less than 2.5 percentile\n",
    "weight is strictly more than 97.5 percentile"
   ]
  },
  {
   "cell_type": "code",
   "execution_count": 30,
   "metadata": {},
   "outputs": [
    {
     "data": {
      "text/plain": [
       "<matplotlib.axes._subplots.AxesSubplot at 0x1a22af1a90>"
      ]
     },
     "execution_count": 30,
     "metadata": {},
     "output_type": "execute_result"
    },
    {
     "data": {
      "image/png": "[encoded data removed]",
      "text/plain": [
       "<Figure size 432x288 with 1 Axes>"
      ]
     },
     "metadata": {
      "needs_background": "light"
     },
     "output_type": "display_data"
    }
   ],
   "source": [
    "sns.boxplot( y=CardiovascularDS[\"height\"] )"
   ]
  },
  {
   "cell_type": "code",
   "execution_count": 31,
   "metadata": {},
   "outputs": [
    {
     "data": {
      "text/plain": [
       "<matplotlib.axes._subplots.AxesSubplot at 0x1a244f0450>"
      ]
     },
     "execution_count": 31,
     "metadata": {},
     "output_type": "execute_result"
    },
    {
     "data": {
      "image/png": "[encoded data removed]",
      "text/plain": [
       "<Figure size 432x288 with 1 Axes>"
      ]
     },
     "metadata": {
      "needs_background": "light"
     },
     "output_type": "display_data"
    }
   ],
   "source": [
    "sns.boxplot( y=CardiovascularDS[\"weight\"] )"
   ]
  },
  {
   "cell_type": "code",
   "execution_count": 32,
   "metadata": {},
   "outputs": [],
   "source": [
    "CardiovascularDS.drop(CardiovascularDS[(CardiovascularDS['height'] > CardiovascularDS['height'].quantile(0.975)) | (CardiovascularDS['height'] < CardiovascularDS['height'].quantile(0.025))].index,inplace=True)\n",
    "CardiovascularDS.drop(CardiovascularDS[(CardiovascularDS['weight'] > CardiovascularDS['weight'].quantile(0.975)) | (CardiovascularDS['weight'] < CardiovascularDS['weight'].quantile(0.025))].index,inplace=True)"
   ]
  },
  {
   "cell_type": "code",
   "execution_count": 33,
   "metadata": {},
   "outputs": [
    {
     "data": {
      "text/plain": [
       "<matplotlib.axes._subplots.AxesSubplot at 0x1a24571bd0>"
      ]
     },
     "execution_count": 33,
     "metadata": {},
     "output_type": "execute_result"
    },
    {
     "data": {
      "image/png": "[encoded data removed]",
      "text/plain": [
       "<Figure size 432x288 with 1 Axes>"
      ]
     },
     "metadata": {
      "needs_background": "light"
     },
     "output_type": "display_data"
    }
   ],
   "source": [
    "sns.boxplot( y=CardiovascularDS[\"height\"] )"
   ]
  },
  {
   "cell_type": "code",
   "execution_count": 34,
   "metadata": {},
   "outputs": [
    {
     "data": {
      "text/plain": [
       "<matplotlib.axes._subplots.AxesSubplot at 0x1a25367dd0>"
      ]
     },
     "execution_count": 34,
     "metadata": {},
     "output_type": "execute_result"
    },
    {
     "data": {
      "image/png": "[encoded data removed]",
      "text/plain": [
       "<Figure size 432x288 with 1 Axes>"
      ]
     },
     "metadata": {
      "needs_background": "light"
     },
     "output_type": "display_data"
    }
   ],
   "source": [
    "sns.boxplot( y=CardiovascularDS[\"weight\"] )"
   ]
  },
  {
   "cell_type": "markdown",
   "metadata": {},
   "source": [
    "For Systolic blood pressure , the range should be 120 - 180 mm.\n",
    "For Diastolic blood pressure , the range should be 80 - 120 mm."
   ]
  },
  {
   "cell_type": "code",
   "execution_count": 35,
   "metadata": {},
   "outputs": [
    {
     "data": {
      "text/plain": [
       "<matplotlib.axes._subplots.AxesSubplot at 0x1a2614c9d0>"
      ]
     },
     "execution_count": 35,
     "metadata": {},
     "output_type": "execute_result"
    },
    {
     "data": {
      "image/png": "[encoded data removed]",
      "text/plain": [
       "<Figure size 432x288 with 1 Axes>"
      ]
     },
     "metadata": {
      "needs_background": "light"
     },
     "output_type": "display_data"
    }
   ],
   "source": [
    "sns.boxplot( y=CardiovascularDS[\"systolic\"] )"
   ]
  },
  {
   "cell_type": "code",
   "execution_count": 36,
   "metadata": {},
   "outputs": [
    {
     "data": {
      "text/plain": [
       "<matplotlib.axes._subplots.AxesSubplot at 0x1a2457b9d0>"
      ]
     },
     "execution_count": 36,
     "metadata": {},
     "output_type": "execute_result"
    },
    {
     "data": {
      "image/png": "[encoded data removed]",
      "text/plain": [
       "<Figure size 432x288 with 1 Axes>"
      ]
     },
     "metadata": {
      "needs_background": "light"
     },
     "output_type": "display_data"
    }
   ],
   "source": [
    "sns.boxplot( y=CardiovascularDS[\"diastolic\"] )"
   ]
  },
  {
   "cell_type": "code",
   "execution_count": 37,
   "metadata": {},
   "outputs": [
    {
     "name": "stdout",
     "output_type": "stream",
     "text": [
      "Diastilic pressure is higher than systolic one in 1082 cases\n"
     ]
    }
   ],
   "source": [
    "print(\"Diastilic pressure is higher than systolic one in {0} cases\".format(CardiovascularDS[CardiovascularDS['diastolic']> CardiovascularDS['systolic']].shape[0]))"
   ]
  },
  {
   "cell_type": "code",
   "execution_count": 38,
   "metadata": {},
   "outputs": [],
   "source": [
    "CardiovascularDS.drop(CardiovascularDS[CardiovascularDS['diastolic']> CardiovascularDS['systolic']].index,inplace=True)"
   ]
  },
  {
   "cell_type": "markdown",
   "metadata": {},
   "source": [
    "'ap_hi': 'systolic', 'ap_lo': 'diastolic'"
   ]
  },
  {
   "cell_type": "code",
   "execution_count": 39,
   "metadata": {},
   "outputs": [],
   "source": [
    "CardiovascularDS.drop(CardiovascularDS[(CardiovascularDS['systolic'] > CardiovascularDS['systolic'].quantile(0.975)) | (CardiovascularDS['systolic'] < CardiovascularDS['systolic'].quantile(0.025))].index,inplace=True)\n",
    "CardiovascularDS.drop(CardiovascularDS[(CardiovascularDS['diastolic'] > CardiovascularDS['diastolic'].quantile(0.975)) | (CardiovascularDS['diastolic'] < CardiovascularDS['diastolic'].quantile(0.025))].index,inplace=True)"
   ]
  },
  {
   "cell_type": "code",
   "execution_count": 40,
   "metadata": {},
   "outputs": [
    {
     "data": {
      "text/plain": [
       "<matplotlib.axes._subplots.AxesSubplot at 0x1a2622f0d0>"
      ]
     },
     "execution_count": 40,
     "metadata": {},
     "output_type": "execute_result"
    },
    {
     "data": {
      "image/png": "[encoded data removed]",
      "text/plain": [
       "<Figure size 432x288 with 1 Axes>"
      ]
     },
     "metadata": {
      "needs_background": "light"
     },
     "output_type": "display_data"
    }
   ],
   "source": [
    "sns.boxplot( y=CardiovascularDS[\"systolic\"] )"
   ]
  },
  {
   "cell_type": "code",
   "execution_count": 41,
   "metadata": {},
   "outputs": [
    {
     "data": {
      "text/plain": [
       "<matplotlib.axes._subplots.AxesSubplot at 0x1a2628dc50>"
      ]
     },
     "execution_count": 41,
     "metadata": {},
     "output_type": "execute_result"
    },
    {
     "data": {
      "image/png": "[encoded data removed]",
      "text/plain": [
       "<Figure size 432x288 with 1 Axes>"
      ]
     },
     "metadata": {
      "needs_background": "light"
     },
     "output_type": "display_data"
    }
   ],
   "source": [
    "sns.boxplot( y=CardiovascularDS[\"diastolic\"] )"
   ]
  },
  {
   "cell_type": "code",
   "execution_count": 42,
   "metadata": {},
   "outputs": [
    {
     "data": {
      "text/plain": [
       "<matplotlib.axes._subplots.AxesSubplot at 0x1a262ff990>"
      ]
     },
     "execution_count": 42,
     "metadata": {},
     "output_type": "execute_result"
    },
    {
     "data": {
      "image/png": "[encoded data removed]",
      "text/plain": [
       "<Figure size 432x288 with 1 Axes>"
      ]
     },
     "metadata": {
      "needs_background": "light"
     },
     "output_type": "display_data"
    }
   ],
   "source": [
    "sns.countplot(x ='age_cat', data = CardiovascularDS) "
   ]
  },
  {
   "cell_type": "markdown",
   "metadata": {},
   "source": [
    "graph information : the dataset contains majorly of Middle Aged people data and minor of Adult data."
   ]
  },
  {
   "cell_type": "code",
   "execution_count": 43,
   "metadata": {},
   "outputs": [
    {
     "data": {
      "text/plain": [
       "<matplotlib.axes._subplots.AxesSubplot at 0x1a262ff250>"
      ]
     },
     "execution_count": 43,
     "metadata": {},
     "output_type": "execute_result"
    },
    {
     "data": {
      "image/png": "[encoded data removed]",
      "text/plain": [
       "<Figure size 432x288 with 1 Axes>"
      ]
     },
     "metadata": {
      "needs_background": "light"
     },
     "output_type": "display_data"
    }
   ],
   "source": [
    "sns.countplot(x ='age_cat', hue = 'CVD_cat', data = CardiovascularDS) "
   ]
  },
  {
   "cell_type": "markdown",
   "metadata": {},
   "source": [
    "graph information :middle aged people are affected by Cardiovascular while comparing to Adult"
   ]
  },
  {
   "cell_type": "code",
   "execution_count": 44,
   "metadata": {},
   "outputs": [
    {
     "data": {
      "image/png": "[encoded data removed]",
      "text/plain": [
       "<Figure size 432x288 with 1 Axes>"
      ]
     },
     "metadata": {
      "needs_background": "light"
     },
     "output_type": "display_data"
    }
   ],
   "source": [
    "sns.countplot(x='age_year', data=CardiovascularDS, hue='CVD_cat')\n",
    "plt.show()"
   ]
  },
  {
   "cell_type": "markdown",
   "metadata": {},
   "source": [
    "graph information : people who are 55 greater in age are more exposed to Cardiovascular"
   ]
  },
  {
   "cell_type": "code",
   "execution_count": 45,
   "metadata": {},
   "outputs": [
    {
     "data": {
      "image/png": "[encoded data removed]",
      "text/plain": [
       "<Figure size 432x288 with 1 Axes>"
      ]
     },
     "metadata": {
      "needs_background": "light"
     },
     "output_type": "display_data"
    }
   ],
   "source": [
    "sns.countplot(x='age_tees', hue='CVD_cat', data = CardiovascularDS, order = ['10s','20s','30s','40s','50s','60s','70+']);"
   ]
  },
  {
   "cell_type": "markdown",
   "metadata": {},
   "source": [
    "graph information :  60s and 70+ ages are more are more exposed to Cardiovascular compare to 40s and 50s.\n",
    "In Addtion patient in 10s, 20s, 30s category have no Cardiovascular"
   ]
  },
  {
   "cell_type": "code",
   "execution_count": 46,
   "metadata": {},
   "outputs": [
    {
     "data": {
      "image/png": "[encoded data removed]",
      "text/plain": [
       "<Figure size 432x288 with 1 Axes>"
      ]
     },
     "metadata": {
      "needs_background": "light"
     },
     "output_type": "display_data"
    }
   ],
   "source": [
    "sns.countplot(x='Gender_cat', hue='CVD_cat', data = CardiovascularDS);"
   ]
  },
  {
   "cell_type": "markdown",
   "metadata": {},
   "source": [
    "graph information : disease label is equally distributed but the gender population is not balanced ."
   ]
  },
  {
   "cell_type": "code",
   "execution_count": 47,
   "metadata": {},
   "outputs": [
    {
     "data": {
      "image/png": "[encoded data removed]",
      "text/plain": [
       "<Figure size 432x288 with 1 Axes>"
      ]
     },
     "metadata": {
      "needs_background": "light"
     },
     "output_type": "display_data"
    }
   ],
   "source": [
    "sns.countplot(x='cholesterol_cat', data=CardiovascularDS, hue='CVD_cat')\n",
    "plt.show()"
   ]
  },
  {
   "cell_type": "markdown",
   "metadata": {},
   "source": [
    "Graph Information : patients who are having above normal & well above normal are the highest risk patient for cardiovascular "
   ]
  },
  {
   "cell_type": "code",
   "execution_count": 48,
   "metadata": {},
   "outputs": [
    {
     "data": {
      "image/png": "[encoded data removed]",
      "text/plain": [
       "<Figure size 432x288 with 1 Axes>"
      ]
     },
     "metadata": {
      "needs_background": "light"
     },
     "output_type": "display_data"
    }
   ],
   "source": [
    "CardiovascularDS.age_year.hist()\n",
    "plt.xlabel(\"age_year\");\n",
    "plt.axvline(CardiovascularDS.age_year.mean(), 0, 0.75, color='r', label='Mean')\n",
    "sns.despine()"
   ]
  },
  {
   "cell_type": "code",
   "execution_count": 49,
   "metadata": {},
   "outputs": [
    {
     "data": {
      "image/png": "[encoded data removed]",
      "text/plain": [
       "<Figure size 432x288 with 1 Axes>"
      ]
     },
     "metadata": {
      "needs_background": "light"
     },
     "output_type": "display_data"
    }
   ],
   "source": [
    "sns.kdeplot(CardiovascularDS.age_year);\n"
   ]
  },
  {
   "cell_type": "code",
   "execution_count": 50,
   "metadata": {},
   "outputs": [
    {
     "data": {
      "image/png": "[encoded data removed]",
      "text/plain": [
       "<Figure size 432x288 with 1 Axes>"
      ]
     },
     "metadata": {
      "needs_background": "light"
     },
     "output_type": "display_data"
    }
   ],
   "source": [
    "sns.distplot(CardiovascularDS.age_year);"
   ]
  },
  {
   "cell_type": "code",
   "execution_count": 51,
   "metadata": {},
   "outputs": [
    {
     "data": {
      "image/png": "[encoded data removed]",
      "text/plain": [
       "<Figure size 432x288 with 1 Axes>"
      ]
     },
     "metadata": {
      "needs_background": "light"
     },
     "output_type": "display_data"
    }
   ],
   "source": [
    "sns.countplot(x='Glucose_cat', data=CardiovascularDS, hue='CVD_cat')\n",
    "plt.show()\n",
    "\n"
   ]
  },
  {
   "cell_type": "markdown",
   "metadata": {},
   "source": [
    "Graph Information : normal glucose level and abnormal patients have high risk to cardiovascular."
   ]
  },
  {
   "cell_type": "code",
   "execution_count": 52,
   "metadata": {},
   "outputs": [
    {
     "data": {
      "image/png": "[encoded data removed]",
      "text/plain": [
       "<Figure size 432x288 with 1 Axes>"
      ]
     },
     "metadata": {
      "needs_background": "light"
     },
     "output_type": "display_data"
    }
   ],
   "source": [
    "sns.countplot(x='active_cat', data=CardiovascularDS, hue='CVD_cat')\n",
    "plt.show()"
   ]
  },
  {
   "cell_type": "code",
   "execution_count": 53,
   "metadata": {},
   "outputs": [
    {
     "data": {
      "image/png": "[encoded data removed]",
      "text/plain": [
       "<Figure size 432x288 with 1 Axes>"
      ]
     },
     "metadata": {
      "needs_background": "light"
     },
     "output_type": "display_data"
    }
   ],
   "source": [
    "sns.countplot(x='smoke_cat', data=CardiovascularDS, hue='CVD_cat')\n",
    "plt.show()"
   ]
  },
  {
   "cell_type": "code",
   "execution_count": 54,
   "metadata": {},
   "outputs": [
    {
     "data": {
      "image/png": "[encoded data removed]",
      "text/plain": [
       "<Figure size 432x288 with 1 Axes>"
      ]
     },
     "metadata": {
      "needs_background": "light"
     },
     "output_type": "display_data"
    }
   ],
   "source": [
    "sns.countplot(x='alchoalic_cat', data=CardiovascularDS, hue='CVD_cat')\n",
    "plt.show()"
   ]
  },
  {
   "cell_type": "code",
   "execution_count": 55,
   "metadata": {},
   "outputs": [
    {
     "data": {
      "image/png": "[encoded data removed]",
      "text/plain": [
       "<Figure size 432x288 with 1 Axes>"
      ]
     },
     "metadata": {
      "needs_background": "light"
     },
     "output_type": "display_data"
    }
   ],
   "source": [
    "sns.kdeplot(CardiovascularDS.weight);"
   ]
  },
  {
   "cell_type": "code",
   "execution_count": 56,
   "metadata": {},
   "outputs": [
    {
     "data": {
      "image/png": "[encoded data removed]",
      "text/plain": [
       "<Figure size 432x288 with 1 Axes>"
      ]
     },
     "metadata": {
      "needs_background": "light"
     },
     "output_type": "display_data"
    }
   ],
   "source": [
    "sns.distplot(CardiovascularDS.weight)\n",
    "plt.show()"
   ]
  },
  {
   "cell_type": "code",
   "execution_count": 57,
   "metadata": {},
   "outputs": [
    {
     "data": {
      "image/png": "[encoded data removed]",
      "text/plain": [
       "<Figure size 432x288 with 1 Axes>"
      ]
     },
     "metadata": {
      "needs_background": "light"
     },
     "output_type": "display_data"
    }
   ],
   "source": [
    "sns.kdeplot(CardiovascularDS.height);"
   ]
  },
  {
   "cell_type": "code",
   "execution_count": 58,
   "metadata": {},
   "outputs": [
    {
     "data": {
      "image/png": "[encoded data removed]",
      "text/plain": [
       "<Figure size 432x288 with 1 Axes>"
      ]
     },
     "metadata": {
      "needs_background": "light"
     },
     "output_type": "display_data"
    }
   ],
   "source": [
    "sns.distplot(CardiovascularDS.height)\n",
    "plt.show()"
   ]
  },
  {
   "cell_type": "code",
   "execution_count": 59,
   "metadata": {},
   "outputs": [
    {
     "data": {
      "image/png": "[encoded data removed]",
      "text/plain": [
       "<Figure size 504x504 with 1 Axes>"
      ]
     },
     "metadata": {
      "needs_background": "light"
     },
     "output_type": "display_data"
    }
   ],
   "source": [
    "df_melt = pd.melt(frame=CardiovascularDS, value_vars=['height'], id_vars=['gender'])\n",
    "plt.figure(figsize=(7, 7))\n",
    "ax = sns.violinplot(\n",
    "    x='variable', \n",
    "    y='value', \n",
    "    hue='gender', \n",
    "    split=True, \n",
    "    data=df_melt, \n",
    "    scale='count',\n",
    "    scale_hue=False);"
   ]
  },
  {
   "cell_type": "markdown",
   "metadata": {},
   "source": [
    "graph information  : the height of 1- female and 2-male are slighlt variated where femal average is around 161 cm and male is around 169"
   ]
  },
  {
   "cell_type": "code",
   "execution_count": 60,
   "metadata": {},
   "outputs": [
    {
     "data": {
      "image/png": "[encoded data removed]",
      "text/plain": [
       "<Figure size 504x504 with 1 Axes>"
      ]
     },
     "metadata": {
      "needs_background": "light"
     },
     "output_type": "display_data"
    }
   ],
   "source": [
    "df_melt = pd.melt(frame=CardiovascularDS, value_vars=['weight'], id_vars=['gender'])\n",
    "plt.figure(figsize=(7, 7))\n",
    "ax = sns.violinplot(\n",
    "    x='variable', \n",
    "    y='value', \n",
    "    hue='gender', \n",
    "    split=True, \n",
    "    data=df_melt, \n",
    "    scale='count',\n",
    "    scale_hue=False);"
   ]
  },
  {
   "cell_type": "markdown",
   "metadata": {},
   "source": [
    "graph information  : weights both genders are equally distributed "
   ]
  },
  {
   "cell_type": "code",
   "execution_count": 61,
   "metadata": {},
   "outputs": [
    {
     "data": {
      "image/png": "[encoded data removed]",
      "text/plain": [
       "<Figure size 504x504 with 1 Axes>"
      ]
     },
     "metadata": {
      "needs_background": "light"
     },
     "output_type": "display_data"
    }
   ],
   "source": [
    "df_melt = pd.melt(frame=CardiovascularDS, value_vars=['height'], id_vars=['Gender_cat'])\n",
    "plt.figure(figsize=(7, 7))\n",
    "ax = sns.violinplot(\n",
    "    x='variable', \n",
    "    y='value', \n",
    "    hue='Gender_cat', \n",
    "    split=True, \n",
    "    data=df_melt, \n",
    "    scale='count',\n",
    "    scale_hue=False);"
   ]
  },
  {
   "cell_type": "code",
   "execution_count": 62,
   "metadata": {},
   "outputs": [
    {
     "data": {
      "image/png": "[encoded data removed]",
      "text/plain": [
       "<Figure size 504x504 with 1 Axes>"
      ]
     },
     "metadata": {
      "needs_background": "light"
     },
     "output_type": "display_data"
    }
   ],
   "source": [
    "df_melt = pd.melt(frame=CardiovascularDS, value_vars=['weight'], id_vars=['Gender_cat'])\n",
    "plt.figure(figsize=(7, 7))\n",
    "ax = sns.violinplot(\n",
    "    x='variable', \n",
    "    y='value', \n",
    "    hue='Gender_cat', \n",
    "    split=True, \n",
    "    data=df_melt, \n",
    "    scale='count',\n",
    "    scale_hue=False);"
   ]
  },
  {
   "cell_type": "markdown",
   "metadata": {},
   "source": [
    "calculate the BMI of the patients , the BMI says whether the person is in Normal health or not . \n",
    "BMI = kg/m2 where kg is a person's weight in kilograms and m2 is their height in metres squared\n",
    "Normal BMI values are said to be from 18.5 to 25."
   ]
  },
  {
   "cell_type": "code",
   "execution_count": 63,
   "metadata": {},
   "outputs": [],
   "source": [
    "\n",
    "# categorize normal & abnormal\n",
    "def bmi_category(bmi_score):\n",
    "  if 18.5 <= bmi_score <= 25:\n",
    "    return \"Normal\"\n",
    "  else:\n",
    "    return \"Abnormal\""
   ]
  },
  {
   "cell_type": "code",
   "execution_count": 64,
   "metadata": {},
   "outputs": [],
   "source": [
    "# calculate the BMI score \n",
    "CardiovascularDS['BMI'] = CardiovascularDS['weight']/((CardiovascularDS['height']/100)**2)\n",
    "\n",
    "CardiovascularDS[\"BMIStatus\"] = CardiovascularDS[\"BMI\"].apply(lambda x: bmi_category(x))\n"
   ]
  },
  {
   "cell_type": "code",
   "execution_count": 65,
   "metadata": {},
   "outputs": [
    {
     "data": {
      "text/plain": [
       "<matplotlib.axes._subplots.AxesSubplot at 0x1a27d67990>"
      ]
     },
     "execution_count": 65,
     "metadata": {},
     "output_type": "execute_result"
    },
    {
     "data": {
      "image/png": "[encoded data removed]",
      "text/plain": [
       "<Figure size 432x288 with 1 Axes>"
      ]
     },
     "metadata": {},
     "output_type": "display_data"
    }
   ],
   "source": [
    "CardiovascularDS[\"BMIStatus\"].value_counts().plot(kind='pie')"
   ]
  },
  {
   "cell_type": "code",
   "execution_count": 66,
   "metadata": {},
   "outputs": [
    {
     "data": {
      "image/png": "[encoded data removed]",
      "text/plain": [
       "<Figure size 432x288 with 1 Axes>"
      ]
     },
     "metadata": {
      "needs_background": "light"
     },
     "output_type": "display_data"
    }
   ],
   "source": [
    "sns.countplot(x='BMIStatus', hue='CVD_cat', data = CardiovascularDS);"
   ]
  },
  {
   "cell_type": "markdown",
   "metadata": {},
   "source": [
    "graph information : people who follows normal BMI score are less prone to cardiovascular \n",
    "and people with abnormal BMI are having increasing cardiovascular."
   ]
  },
  {
   "cell_type": "code",
   "execution_count": 67,
   "metadata": {},
   "outputs": [],
   "source": [
    "def categorize_blood_pressure(x):\n",
    "  if x['systolic'] < 120 and x['diastolic'] < 80:\n",
    "    return \"Normal\"\n",
    "  elif 120 <= x['systolic'] <= 129 and x['diastolic'] < 80:\n",
    "    return \"Elevated\"\n",
    "  elif 130 <= x['systolic'] <= 139 or 80 <= x['diastolic'] <= 89:\n",
    "    return \"High Blood Pressure(Stage 1)\"\n",
    "  elif  140 <= x['systolic'] <= 180 or 90 <= x['diastolic'] <= 120:\n",
    "    return \"High Blood Pressure(Stage 2)\"\n",
    "  elif  (x['systolic'] > 180 and  x['diastolic'] > 120) or (x['systolic'] > 180 or x['diastolic'] > 120):\n",
    "    return \"Hypertensive Crisis\""
   ]
  },
  {
   "cell_type": "code",
   "execution_count": 68,
   "metadata": {},
   "outputs": [],
   "source": [
    "def pulse(data):\n",
    "    return np.subtract(data['systolic'], data['diastolic'])\n",
    " \n"
   ]
  },
  {
   "cell_type": "code",
   "execution_count": 69,
   "metadata": {},
   "outputs": [],
   "source": [
    "CardiovascularDS['blood_category'] = CardiovascularDS.apply(categorize_blood_pressure, axis=1)"
   ]
  },
  {
   "cell_type": "code",
   "execution_count": 70,
   "metadata": {},
   "outputs": [],
   "source": [
    "CardiovascularDS['pulse'] = CardiovascularDS.apply(pulse, axis=1)"
   ]
  },
  {
   "cell_type": "code",
   "execution_count": 71,
   "metadata": {},
   "outputs": [
    {
     "data": {
      "text/plain": [
       "<matplotlib.axes._subplots.AxesSubplot at 0x1a262c7710>"
      ]
     },
     "execution_count": 71,
     "metadata": {},
     "output_type": "execute_result"
    },
    {
     "data": {
      "image/png": "[encoded data removed]",
      "text/plain": [
       "<Figure size 432x288 with 1 Axes>"
      ]
     },
     "metadata": {},
     "output_type": "display_data"
    }
   ],
   "source": [
    "CardiovascularDS[\"blood_category\"].value_counts().plot(kind='pie')\n"
   ]
  },
  {
   "cell_type": "code",
   "execution_count": 72,
   "metadata": {},
   "outputs": [
    {
     "data": {
      "image/png": "[encoded data removed]",
      "text/plain": [
       "<Figure size 432x288 with 1 Axes>"
      ]
     },
     "metadata": {
      "needs_background": "light"
     },
     "output_type": "display_data"
    }
   ],
   "source": [
    "sns.countplot(x='blood_category', hue='CVD_cat', data = CardiovascularDS);"
   ]
  },
  {
   "cell_type": "markdown",
   "metadata": {},
   "source": [
    "Graph Infor: high blood pressure are more subjected to Cardiovascular disease"
   ]
  },
  {
   "cell_type": "code",
   "execution_count": 73,
   "metadata": {},
   "outputs": [
    {
     "name": "stdout",
     "output_type": "stream",
     "text": [
      "<class 'pandas.core.frame.DataFrame'>\n",
      "Int64Index: 60108 entries, 0 to 69999\n",
      "Data columns (total 26 columns):\n",
      "age                       60108 non-null int64\n",
      "gender                    60108 non-null int64\n",
      "height                    60108 non-null int64\n",
      "weight                    60108 non-null float64\n",
      "systolic                  60108 non-null int64\n",
      "diastolic                 60108 non-null int64\n",
      "cholesterol               60108 non-null int64\n",
      "glucose                   60108 non-null int64\n",
      "smoke                     60108 non-null int64\n",
      "alcohol                   60108 non-null int64\n",
      "active                    60108 non-null int64\n",
      "cardiovascular disease    60108 non-null int64\n",
      "age_year                  60108 non-null int64\n",
      "age_cat                   60108 non-null object\n",
      "age_tees                  60108 non-null object\n",
      "CVD_cat                   60108 non-null object\n",
      "Gender_cat                60108 non-null object\n",
      "smoke_cat                 60108 non-null object\n",
      "alchoalic_cat             60108 non-null object\n",
      "Glucose_cat               60108 non-null object\n",
      "cholesterol_cat           60108 non-null object\n",
      "active_cat                60108 non-null object\n",
      "BMI                       60108 non-null float64\n",
      "BMIStatus                 60108 non-null object\n",
      "blood_category            60108 non-null object\n",
      "pulse                     60108 non-null int64\n",
      "dtypes: float64(2), int64(13), object(11)\n",
      "memory usage: 14.9+ MB\n"
     ]
    }
   ],
   "source": [
    "CardiovascularDS.head()\n",
    "CardiovascularDS.info()\n"
   ]
  },
  {
   "cell_type": "code",
   "execution_count": 74,
   "metadata": {},
   "outputs": [
    {
     "data": {
      "text/html": [
       "<div>\n",
       "<style scoped>\n",
       "    .dataframe tbody tr th:only-of-type {\n",
       "        vertical-align: middle;\n",
       "    }\n",
       "\n",
       "    .dataframe tbody tr th {\n",
       "        vertical-align: top;\n",
       "    }\n",
       "\n",
       "    .dataframe thead th {\n",
       "        text-align: right;\n",
       "    }\n",
       "</style>\n",
       "<table border=\"1\" class=\"dataframe\">\n",
       "  <thead>\n",
       "    <tr style=\"text-align: right;\">\n",
       "      <th></th>\n",
       "      <th>weight</th>\n",
       "      <th>height</th>\n",
       "      <th>systolic</th>\n",
       "      <th>diastolic</th>\n",
       "      <th>gender</th>\n",
       "      <th>age_tees</th>\n",
       "      <th>age_year</th>\n",
       "      <th>BMI</th>\n",
       "      <th>BMIStatus</th>\n",
       "      <th>cholesterol</th>\n",
       "      <th>alcohol</th>\n",
       "      <th>smoke</th>\n",
       "      <th>glucose</th>\n",
       "      <th>active</th>\n",
       "      <th>blood_category</th>\n",
       "      <th>pulse</th>\n",
       "      <th>cardiovascular disease</th>\n",
       "    </tr>\n",
       "  </thead>\n",
       "  <tbody>\n",
       "    <tr>\n",
       "      <td>0</td>\n",
       "      <td>62.0</td>\n",
       "      <td>168</td>\n",
       "      <td>110</td>\n",
       "      <td>80</td>\n",
       "      <td>2</td>\n",
       "      <td>50s</td>\n",
       "      <td>50</td>\n",
       "      <td>21.967120</td>\n",
       "      <td>Normal</td>\n",
       "      <td>1</td>\n",
       "      <td>0</td>\n",
       "      <td>0</td>\n",
       "      <td>1</td>\n",
       "      <td>1</td>\n",
       "      <td>High Blood Pressure(Stage 1)</td>\n",
       "      <td>30</td>\n",
       "      <td>0</td>\n",
       "    </tr>\n",
       "    <tr>\n",
       "      <td>1</td>\n",
       "      <td>85.0</td>\n",
       "      <td>156</td>\n",
       "      <td>140</td>\n",
       "      <td>90</td>\n",
       "      <td>1</td>\n",
       "      <td>60s</td>\n",
       "      <td>55</td>\n",
       "      <td>34.927679</td>\n",
       "      <td>Abnormal</td>\n",
       "      <td>3</td>\n",
       "      <td>0</td>\n",
       "      <td>0</td>\n",
       "      <td>1</td>\n",
       "      <td>1</td>\n",
       "      <td>High Blood Pressure(Stage 2)</td>\n",
       "      <td>50</td>\n",
       "      <td>1</td>\n",
       "    </tr>\n",
       "    <tr>\n",
       "      <td>2</td>\n",
       "      <td>64.0</td>\n",
       "      <td>165</td>\n",
       "      <td>130</td>\n",
       "      <td>70</td>\n",
       "      <td>1</td>\n",
       "      <td>60s</td>\n",
       "      <td>52</td>\n",
       "      <td>23.507805</td>\n",
       "      <td>Normal</td>\n",
       "      <td>3</td>\n",
       "      <td>0</td>\n",
       "      <td>0</td>\n",
       "      <td>1</td>\n",
       "      <td>0</td>\n",
       "      <td>High Blood Pressure(Stage 1)</td>\n",
       "      <td>60</td>\n",
       "      <td>1</td>\n",
       "    </tr>\n",
       "    <tr>\n",
       "      <td>3</td>\n",
       "      <td>82.0</td>\n",
       "      <td>169</td>\n",
       "      <td>150</td>\n",
       "      <td>100</td>\n",
       "      <td>2</td>\n",
       "      <td>50s</td>\n",
       "      <td>48</td>\n",
       "      <td>28.710479</td>\n",
       "      <td>Abnormal</td>\n",
       "      <td>1</td>\n",
       "      <td>0</td>\n",
       "      <td>0</td>\n",
       "      <td>1</td>\n",
       "      <td>1</td>\n",
       "      <td>High Blood Pressure(Stage 2)</td>\n",
       "      <td>50</td>\n",
       "      <td>1</td>\n",
       "    </tr>\n",
       "    <tr>\n",
       "      <td>4</td>\n",
       "      <td>56.0</td>\n",
       "      <td>156</td>\n",
       "      <td>100</td>\n",
       "      <td>60</td>\n",
       "      <td>1</td>\n",
       "      <td>50s</td>\n",
       "      <td>48</td>\n",
       "      <td>23.011177</td>\n",
       "      <td>Normal</td>\n",
       "      <td>1</td>\n",
       "      <td>0</td>\n",
       "      <td>0</td>\n",
       "      <td>1</td>\n",
       "      <td>0</td>\n",
       "      <td>Normal</td>\n",
       "      <td>40</td>\n",
       "      <td>0</td>\n",
       "    </tr>\n",
       "  </tbody>\n",
       "</table>\n",
       "</div>"
      ],
      "text/plain": [
       "   weight  height  systolic  diastolic  gender age_tees  age_year        BMI  \\\n",
       "0    62.0     168       110         80       2      50s        50  21.967120   \n",
       "1    85.0     156       140         90       1      60s        55  34.927679   \n",
       "2    64.0     165       130         70       1      60s        52  23.507805   \n",
       "3    82.0     169       150        100       2      50s        48  28.710479   \n",
       "4    56.0     156       100         60       1      50s        48  23.011177   \n",
       "\n",
       "  BMIStatus  cholesterol  alcohol  smoke  glucose  active  \\\n",
       "0    Normal            1        0      0        1       1   \n",
       "1  Abnormal            3        0      0        1       1   \n",
       "2    Normal            3        0      0        1       0   \n",
       "3  Abnormal            1        0      0        1       1   \n",
       "4    Normal            1        0      0        1       0   \n",
       "\n",
       "                 blood_category  pulse  cardiovascular disease  \n",
       "0  High Blood Pressure(Stage 1)     30                       0  \n",
       "1  High Blood Pressure(Stage 2)     50                       1  \n",
       "2  High Blood Pressure(Stage 1)     60                       1  \n",
       "3  High Blood Pressure(Stage 2)     50                       1  \n",
       "4                        Normal     40                       0  "
      ]
     },
     "execution_count": 74,
     "metadata": {},
     "output_type": "execute_result"
    }
   ],
   "source": [
    "CardiovascularDS_DS = CardiovascularDS[[\"weight\",\"height\",\"systolic\",\"diastolic\",\"gender\",\"age_tees\",\"age_year\",\"BMI\",\"BMIStatus\",\"cholesterol\",\"alcohol\",\"smoke\",\"glucose\",\"active\",\"blood_category\",\"pulse\",\"cardiovascular disease\"]].copy()\n",
    "CardiovascularDS_DS.head()"
   ]
  },
  {
   "cell_type": "code",
   "execution_count": 75,
   "metadata": {},
   "outputs": [
    {
     "data": {
      "text/html": [
       "<div>\n",
       "<style scoped>\n",
       "    .dataframe tbody tr th:only-of-type {\n",
       "        vertical-align: middle;\n",
       "    }\n",
       "\n",
       "    .dataframe tbody tr th {\n",
       "        vertical-align: top;\n",
       "    }\n",
       "\n",
       "    .dataframe thead th {\n",
       "        text-align: right;\n",
       "    }\n",
       "</style>\n",
       "<table border=\"1\" class=\"dataframe\">\n",
       "  <thead>\n",
       "    <tr style=\"text-align: right;\">\n",
       "      <th></th>\n",
       "      <th>weight</th>\n",
       "      <th>height</th>\n",
       "      <th>systolic</th>\n",
       "      <th>diastolic</th>\n",
       "      <th>gender</th>\n",
       "      <th>age_tees</th>\n",
       "      <th>age_year</th>\n",
       "      <th>BMI</th>\n",
       "      <th>BMIStatus</th>\n",
       "      <th>cholesterol</th>\n",
       "      <th>alcohol</th>\n",
       "      <th>smoke</th>\n",
       "      <th>glucose</th>\n",
       "      <th>active</th>\n",
       "      <th>blood_category</th>\n",
       "      <th>pulse</th>\n",
       "      <th>cardiovascular disease</th>\n",
       "    </tr>\n",
       "  </thead>\n",
       "  <tbody>\n",
       "    <tr>\n",
       "      <td>0</td>\n",
       "      <td>62.0</td>\n",
       "      <td>168</td>\n",
       "      <td>110</td>\n",
       "      <td>80</td>\n",
       "      <td>2</td>\n",
       "      <td>2</td>\n",
       "      <td>50</td>\n",
       "      <td>21.967120</td>\n",
       "      <td>1</td>\n",
       "      <td>1</td>\n",
       "      <td>0</td>\n",
       "      <td>0</td>\n",
       "      <td>1</td>\n",
       "      <td>1</td>\n",
       "      <td>1</td>\n",
       "      <td>30</td>\n",
       "      <td>0</td>\n",
       "    </tr>\n",
       "    <tr>\n",
       "      <td>1</td>\n",
       "      <td>85.0</td>\n",
       "      <td>156</td>\n",
       "      <td>140</td>\n",
       "      <td>90</td>\n",
       "      <td>1</td>\n",
       "      <td>3</td>\n",
       "      <td>55</td>\n",
       "      <td>34.927679</td>\n",
       "      <td>0</td>\n",
       "      <td>3</td>\n",
       "      <td>0</td>\n",
       "      <td>0</td>\n",
       "      <td>1</td>\n",
       "      <td>1</td>\n",
       "      <td>2</td>\n",
       "      <td>50</td>\n",
       "      <td>1</td>\n",
       "    </tr>\n",
       "    <tr>\n",
       "      <td>2</td>\n",
       "      <td>64.0</td>\n",
       "      <td>165</td>\n",
       "      <td>130</td>\n",
       "      <td>70</td>\n",
       "      <td>1</td>\n",
       "      <td>3</td>\n",
       "      <td>52</td>\n",
       "      <td>23.507805</td>\n",
       "      <td>1</td>\n",
       "      <td>3</td>\n",
       "      <td>0</td>\n",
       "      <td>0</td>\n",
       "      <td>1</td>\n",
       "      <td>0</td>\n",
       "      <td>1</td>\n",
       "      <td>60</td>\n",
       "      <td>1</td>\n",
       "    </tr>\n",
       "    <tr>\n",
       "      <td>3</td>\n",
       "      <td>82.0</td>\n",
       "      <td>169</td>\n",
       "      <td>150</td>\n",
       "      <td>100</td>\n",
       "      <td>2</td>\n",
       "      <td>2</td>\n",
       "      <td>48</td>\n",
       "      <td>28.710479</td>\n",
       "      <td>0</td>\n",
       "      <td>1</td>\n",
       "      <td>0</td>\n",
       "      <td>0</td>\n",
       "      <td>1</td>\n",
       "      <td>1</td>\n",
       "      <td>2</td>\n",
       "      <td>50</td>\n",
       "      <td>1</td>\n",
       "    </tr>\n",
       "    <tr>\n",
       "      <td>4</td>\n",
       "      <td>56.0</td>\n",
       "      <td>156</td>\n",
       "      <td>100</td>\n",
       "      <td>60</td>\n",
       "      <td>1</td>\n",
       "      <td>2</td>\n",
       "      <td>48</td>\n",
       "      <td>23.011177</td>\n",
       "      <td>1</td>\n",
       "      <td>1</td>\n",
       "      <td>0</td>\n",
       "      <td>0</td>\n",
       "      <td>1</td>\n",
       "      <td>0</td>\n",
       "      <td>3</td>\n",
       "      <td>40</td>\n",
       "      <td>0</td>\n",
       "    </tr>\n",
       "  </tbody>\n",
       "</table>\n",
       "</div>"
      ],
      "text/plain": [
       "   weight  height  systolic  diastolic  gender  age_tees  age_year        BMI  \\\n",
       "0    62.0     168       110         80       2         2        50  21.967120   \n",
       "1    85.0     156       140         90       1         3        55  34.927679   \n",
       "2    64.0     165       130         70       1         3        52  23.507805   \n",
       "3    82.0     169       150        100       2         2        48  28.710479   \n",
       "4    56.0     156       100         60       1         2        48  23.011177   \n",
       "\n",
       "   BMIStatus  cholesterol  alcohol  smoke  glucose  active  blood_category  \\\n",
       "0          1            1        0      0        1       1               1   \n",
       "1          0            3        0      0        1       1               2   \n",
       "2          1            3        0      0        1       0               1   \n",
       "3          0            1        0      0        1       1               2   \n",
       "4          1            1        0      0        1       0               3   \n",
       "\n",
       "   pulse  cardiovascular disease  \n",
       "0     30                       0  \n",
       "1     50                       1  \n",
       "2     60                       1  \n",
       "3     50                       1  \n",
       "4     40                       0  "
      ]
     },
     "execution_count": 75,
     "metadata": {},
     "output_type": "execute_result"
    }
   ],
   "source": [
    "from sklearn import preprocessing\n",
    "le = preprocessing.LabelEncoder()\n",
    "\n",
    "# BMI_State\n",
    "le.fit(CardiovascularDS_DS['BMIStatus'])\n",
    "CardiovascularDS_DS['BMIStatus'] = le.transform(CardiovascularDS_DS['BMIStatus'])\n",
    "\n",
    "# blood category\n",
    "le.fit(CardiovascularDS_DS['blood_category'])\n",
    "CardiovascularDS_DS['blood_category'] = le.transform(CardiovascularDS_DS['blood_category'])\n",
    "\n",
    "# age tees\n",
    "le.fit(CardiovascularDS_DS['age_tees'])\n",
    "CardiovascularDS_DS['age_tees'] = le.transform(CardiovascularDS_DS['age_tees'])\n",
    "\n",
    "CardiovascularDS_DS.head()"
   ]
  },
  {
   "cell_type": "code",
   "execution_count": 76,
   "metadata": {},
   "outputs": [
    {
     "data": {
      "image/png": "[encoded data removed]",
      "text/plain": [
       "<Figure size 1440x1440 with 2 Axes>"
      ]
     },
     "metadata": {
      "needs_background": "light"
     },
     "output_type": "display_data"
    }
   ],
   "source": [
    "\n",
    "\n",
    "plt.rcParams['figure.figsize'] = (20, 20) \n",
    "ax=sns.heatmap(CardiovascularDS_DS.corr(), annot = True, linewidths=.5, cmap=\"YlGnBu\")\n",
    "bottom,top=ax.get_ylim()\n",
    "ax.set_ylim(bottom +.5,top-.5)\n",
    "plt.title('Corelation Between Features', fontsize = 60)\n",
    "plt.show()"
   ]
  },
  {
   "cell_type": "code",
   "execution_count": 77,
   "metadata": {},
   "outputs": [
    {
     "data": {
      "text/html": [
       "<div>\n",
       "<style scoped>\n",
       "    .dataframe tbody tr th:only-of-type {\n",
       "        vertical-align: middle;\n",
       "    }\n",
       "\n",
       "    .dataframe tbody tr th {\n",
       "        vertical-align: top;\n",
       "    }\n",
       "\n",
       "    .dataframe thead th {\n",
       "        text-align: right;\n",
       "    }\n",
       "</style>\n",
       "<table border=\"1\" class=\"dataframe\">\n",
       "  <thead>\n",
       "    <tr style=\"text-align: right;\">\n",
       "      <th></th>\n",
       "      <th>systolic</th>\n",
       "      <th>diastolic</th>\n",
       "      <th>age_year</th>\n",
       "      <th>cholesterol</th>\n",
       "      <th>pulse</th>\n",
       "      <th>cardiovascular disease</th>\n",
       "    </tr>\n",
       "  </thead>\n",
       "  <tbody>\n",
       "    <tr>\n",
       "      <td>0</td>\n",
       "      <td>110</td>\n",
       "      <td>80</td>\n",
       "      <td>50</td>\n",
       "      <td>1</td>\n",
       "      <td>30</td>\n",
       "      <td>0</td>\n",
       "    </tr>\n",
       "    <tr>\n",
       "      <td>1</td>\n",
       "      <td>140</td>\n",
       "      <td>90</td>\n",
       "      <td>55</td>\n",
       "      <td>3</td>\n",
       "      <td>50</td>\n",
       "      <td>1</td>\n",
       "    </tr>\n",
       "    <tr>\n",
       "      <td>2</td>\n",
       "      <td>130</td>\n",
       "      <td>70</td>\n",
       "      <td>52</td>\n",
       "      <td>3</td>\n",
       "      <td>60</td>\n",
       "      <td>1</td>\n",
       "    </tr>\n",
       "    <tr>\n",
       "      <td>3</td>\n",
       "      <td>150</td>\n",
       "      <td>100</td>\n",
       "      <td>48</td>\n",
       "      <td>1</td>\n",
       "      <td>50</td>\n",
       "      <td>1</td>\n",
       "    </tr>\n",
       "    <tr>\n",
       "      <td>4</td>\n",
       "      <td>100</td>\n",
       "      <td>60</td>\n",
       "      <td>48</td>\n",
       "      <td>1</td>\n",
       "      <td>40</td>\n",
       "      <td>0</td>\n",
       "    </tr>\n",
       "  </tbody>\n",
       "</table>\n",
       "</div>"
      ],
      "text/plain": [
       "   systolic  diastolic  age_year  cholesterol  pulse  cardiovascular disease\n",
       "0       110         80        50            1     30                       0\n",
       "1       140         90        55            3     50                       1\n",
       "2       130         70        52            3     60                       1\n",
       "3       150        100        48            1     50                       1\n",
       "4       100         60        48            1     40                       0"
      ]
     },
     "execution_count": 77,
     "metadata": {},
     "output_type": "execute_result"
    }
   ],
   "source": [
    "Final_CardiovascularDS_DS = CardiovascularDS_DS[[\"systolic\",\"diastolic\",\"age_year\",\"cholesterol\",\"pulse\",\"cardiovascular disease\"]].copy()\n",
    "Final_CardiovascularDS_DS.head()\n"
   ]
  },
  {
   "cell_type": "code",
   "execution_count": 78,
   "metadata": {},
   "outputs": [],
   "source": [
    "x = Final_CardiovascularDS_DS.drop(['cardiovascular disease'], axis=1)\n",
    "y = Final_CardiovascularDS_DS['cardiovascular disease']"
   ]
  },
  {
   "cell_type": "code",
   "execution_count": 79,
   "metadata": {},
   "outputs": [
    {
     "name": "stdout",
     "output_type": "stream",
     "text": [
      "size of test dataset = 12022, size of traing data = 48086, percentage = 20.000665468822785%\n"
     ]
    }
   ],
   "source": [
    "from sklearn.model_selection import train_test_split\n",
    "\n",
    "x_train, x_test, y_train, y_test = train_test_split(x,y,test_size=0.2,random_state=42, shuffle = True)\n",
    "print('size of test dataset = {}, size of traing data = {}, percentage = {}%'.format(len(x_test),len(x_train),len(x_test)*100/(len(x_test) + len(x_train))))"
   ]
  },
  {
   "cell_type": "code",
   "execution_count": 271,
   "metadata": {},
   "outputs": [],
   "source": [
    "params = { \n",
    "    'n_estimators': [10, 50, 100, 150, 200, 300, 400, 500],\n",
    "    'max_depth' : [10,20,30,40,50],\n",
    "    'criterion' : ['entropy','gini']\n",
    "}"
   ]
  },
  {
   "cell_type": "code",
   "execution_count": 272,
   "metadata": {},
   "outputs": [
    {
     "name": "stdout",
     "output_type": "stream",
     "text": [
      "Best Hyper Parameters:\n",
      " {'criterion': 'entropy', 'max_depth': 10, 'n_estimators': 100}\n"
     ]
    }
   ],
   "source": [
    "from sklearn.ensemble import RandomForestClassifier\n",
    "from sklearn.model_selection import GridSearchCV# Hyperparameter Tuning\n",
    "rfc_gridcv = RandomForestClassifier(random_state=42)\n",
    "rfc_gridcv = GridSearchCV(estimator=rfc_gridcv, param_grid=params, cv= 10, n_jobs = -1)\n",
    "rfc_gridcv.fit(x_train, y_train)\n",
    "print(\"Best Hyper Parameters:\\n\",rfc_gridcv.best_params_)\n",
    "\n"
   ]
  },
  {
   "cell_type": "code",
   "execution_count": 274,
   "metadata": {},
   "outputs": [
    {
     "name": "stdout",
     "output_type": "stream",
     "text": [
      "0.7328744333069916\n",
      "0.7267509565796041\n"
     ]
    }
   ],
   "source": [
    "from sklearn.ensemble import RandomForestClassifier \n",
    "model_rf = RandomForestClassifier(random_state=42, n_estimators=100, max_depth= 10, criterion = 'entropy')\n",
    "model_rf.fit(x_train, y_train)\n",
    "ACC_train_rf = model_rf.score(x_train, y_train)\n",
    "ACC_test_rf = model_rf.score(x_test, y_test)\n",
    "\n",
    "print(ACC_train_rf)\n",
    "print(ACC_test_rf)"
   ]
  },
  {
   "cell_type": "code",
   "execution_count": 275,
   "metadata": {},
   "outputs": [],
   "source": [
    "from sklearn.preprocessing import StandardScaler\n",
    "sc_X = StandardScaler()\n",
    "x_train = sc_X.fit_transform(x_train)\n",
    "x_test = sc_X.transform(x_test)"
   ]
  },
  {
   "cell_type": "code",
   "execution_count": 277,
   "metadata": {},
   "outputs": [],
   "source": [
    "params_for_l1 = { \n",
    "    'C' :  np.logspace(0, 4, 10),\n",
    "    'solver' : ['liblinear', 'saga']\n",
    "}\n",
    "\n",
    "params_for_l2 = { \n",
    "    'C' :  np.logspace(0, 4, 10),\n",
    "    'solver' : ['newton-cg', 'lbfgs', 'liblinear', 'sag', 'saga']\n",
    "}\n",
    "\n",
    "params_for_elasticnet = { \n",
    "    'C' :  np.logspace(0, 4, 10),\n",
    "    'l1_ratio' : np.arange (0.1, 1.0, 0.1),\n",
    "    'solver' : ['saga']\n",
    "}"
   ]
  },
  {
   "cell_type": "code",
   "execution_count": 279,
   "metadata": {},
   "outputs": [
    {
     "name": "stdout",
     "output_type": "stream",
     "text": [
      "Best Hyper Parameters:\n",
      " {'C': 1.0, 'solver': 'liblinear'}\n"
     ]
    }
   ],
   "source": [
    "from sklearn.linear_model import LogisticRegression\n",
    "logreg_with_l1_gridcv = LogisticRegression(penalty = 'l1')\n",
    "logreg_with_l1_gridcv = GridSearchCV(estimator=logreg_with_l1_gridcv, param_grid=params_for_l1, cv= 10, n_jobs = -1)\n",
    "logreg_with_l1_gridcv.fit(x_train, y_train)\n",
    "print(\"Best Hyper Parameters:\\n\",logreg_with_l1_gridcv.best_params_)"
   ]
  },
  {
   "cell_type": "code",
   "execution_count": 282,
   "metadata": {},
   "outputs": [
    {
     "name": "stdout",
     "output_type": "stream",
     "text": [
      "0.7152809549557043\n",
      "0.7200964897687573\n"
     ]
    }
   ],
   "source": [
    "from sklearn.linear_model import LogisticRegression\n",
    "model_lr = LogisticRegression(penalty = 'l1', C = 1, solver = 'liblinear')\n",
    "model_lr.fit(x_train, y_train)\n",
    "ACC_train_lr = model_lr.score(x_train, y_train)\n",
    "ACC_test_lr = model_lr.score(x_test, y_test)\n",
    "print(ACC_train_lr)\n",
    "print(ACC_test_lr)"
   ]
  },
  {
   "cell_type": "code",
   "execution_count": 285,
   "metadata": {},
   "outputs": [
    {
     "name": "stdout",
     "output_type": "stream",
     "text": [
      "Best Hyper Parameters:\n",
      " {'C': 1.0, 'solver': 'newton-cg'}\n"
     ]
    }
   ],
   "source": [
    "from sklearn.linear_model import LogisticRegression\n",
    "logreg_with_l2_gridcv = LogisticRegression(penalty = 'l2')\n",
    "logreg_with_l2_gridcv = GridSearchCV(estimator=logreg_with_l2_gridcv, param_grid=params_for_l2, cv= 10, n_jobs = -1)\n",
    "logreg_with_l2_gridcv.fit(x_train, y_train)\n",
    "print(\"Best Hyper Parameters:\\n\",logreg_with_l2_gridcv.best_params_)"
   ]
  },
  {
   "cell_type": "code",
   "execution_count": 286,
   "metadata": {},
   "outputs": [
    {
     "name": "stdout",
     "output_type": "stream",
     "text": [
      "0.7152809549557043\n",
      "0.7200964897687573\n"
     ]
    }
   ],
   "source": [
    "from sklearn.linear_model import LogisticRegression\n",
    "model_lr = LogisticRegression(penalty = 'l2', C = 1, solver = 'newton-cg')\n",
    "model_lr.fit(x_train, y_train)\n",
    "ACC_train_lr = model_lr.score(x_train, y_train)\n",
    "ACC_test_lr = model_lr.score(x_test, y_test)\n",
    "print(ACC_train_lr)\n",
    "print(ACC_test_lr)"
   ]
  },
  {
   "cell_type": "code",
   "execution_count": 287,
   "metadata": {},
   "outputs": [
    {
     "name": "stdout",
     "output_type": "stream",
     "text": [
      "Best Hyper Parameters:\n",
      " {'C': 1.0, 'l1_ratio': 0.1, 'solver': 'saga'}\n"
     ]
    }
   ],
   "source": [
    "logreg_with_elasticnet_gridcv = LogisticRegression(penalty = 'elasticnet')\n",
    "logreg_with_elasticnet_gridcv = GridSearchCV(estimator=logreg_with_elasticnet_gridcv, param_grid=params_for_elasticnet, cv= 10, n_jobs = -1)\n",
    "logreg_with_elasticnet_gridcv.fit(x_train, y_train)\n",
    "print(\"Best Hyper Parameters:\\n\",logreg_with_elasticnet_gridcv.best_params_)"
   ]
  },
  {
   "cell_type": "code",
   "execution_count": 288,
   "metadata": {},
   "outputs": [
    {
     "name": "stdout",
     "output_type": "stream",
     "text": [
      "0.7152809549557043\n",
      "0.7200964897687573\n"
     ]
    }
   ],
   "source": [
    "from sklearn.linear_model import LogisticRegression\n",
    "model_lr = LogisticRegression(penalty = 'elasticnet', C = 1, solver = 'saga',l1_ratio = 0.1)\n",
    "model_lr.fit(x_train, y_train)\n",
    "ACC_train_lr = model_lr.score(x_train, y_train)\n",
    "ACC_test_lr = model_lr.score(x_test, y_test)\n",
    "print(ACC_train_lr)\n",
    "print(ACC_test_lr)"
   ]
  },
  {
   "cell_type": "code",
   "execution_count": 290,
   "metadata": {},
   "outputs": [],
   "source": [
    "SVCparams = {'C':[0.1, 1, 10, 100], 'gamma':[1, 0.1, 0.01, 0.001]}"
   ]
  },
  {
   "cell_type": "code",
   "execution_count": null,
   "metadata": {},
   "outputs": [],
   "source": [
    "SVC_gridcv =  SVC()\n",
    "SVC_gridcv = GridSearchCV(estimator=SVC_gridcv, param_grid=SVCparams, cv= 10, n_jobs = -1)\n",
    "SVC_gridcv.fit(x_train, y_train)\n",
    "print(\"Best Hyper Parameters:\\n\",SVC_gridcv.best_params_)"
   ]
  },
  {
   "cell_type": "code",
   "execution_count": 80,
   "metadata": {},
   "outputs": [
    {
     "name": "stderr",
     "output_type": "stream",
     "text": [
      "/Users/ahmad.zeidan/opt/anaconda3/lib/python3.7/site-packages/sklearn/linear_model/logistic.py:432: FutureWarning: Default solver will be changed to 'lbfgs' in 0.22. Specify a solver to silence this warning.\n",
      "  FutureWarning)\n",
      "/Users/ahmad.zeidan/opt/anaconda3/lib/python3.7/site-packages/sklearn/svm/base.py:193: FutureWarning: The default value of gamma will change from 'auto' to 'scale' in version 0.22 to account better for unscaled features. Set gamma explicitly to 'auto' or 'scale' to avoid this warning.\n",
      "  \"avoid this warning.\", FutureWarning)\n",
      "/Users/ahmad.zeidan/opt/anaconda3/lib/python3.7/site-packages/sklearn/ensemble/forest.py:245: FutureWarning: The default value of n_estimators will change from 10 in version 0.20 to 100 in 0.22.\n",
      "  \"10 in version 0.20 to 100 in 0.22.\", FutureWarning)\n"
     ]
    },
    {
     "name": "stdout",
     "output_type": "stream",
     "text": [
      "+----------+-------------------+-------------------+-------------------+-------------------+-------------------+\n",
      "| Accuracy |    Logistic (%)   |      SVM (%)      |       RF (%)      |       NB (%)      |       NN (%)      |\n",
      "+----------+-------------------+-------------------+-------------------+-------------------+-------------------+\n",
      "| Training | 71.52393628083018 |  73.2104978580044 | 73.95707690388055 | 71.65495154514826 | 71.57384685771326 |\n",
      "| Testing  | 71.99301280984861 | 72.20096489768757 | 71.85992347363167 | 71.95974047579438 | 71.57384685771326 |\n",
      "+----------+-------------------+-------------------+-------------------+-------------------+-------------------+\n"
     ]
    }
   ],
   "source": [
    "## logistic regression\n",
    "from sklearn.linear_model import LogisticRegression\n",
    "model_lr = LogisticRegression()\n",
    "model_lr.fit(x_train, y_train)\n",
    "ACC_train_lr = model_lr.score(x_train, y_train)\n",
    "ACC_test_lr = model_lr.score(x_test, y_test)\n",
    "\n",
    "## Decision Trees\n",
    "##from sklearn.tree import DecisionTreeClassifier \n",
    "##model_dt = DecisionTreeClassifier()\n",
    "##model_dt.fit(x_train, y_train)\n",
    "##ACC_train_dt = model_dt.score(x_train, y_train)\n",
    "##ACC_test_dt = model_dt.score(x_test, y_test)\n",
    "\n",
    "## Support Vector Machine\n",
    "from sklearn.svm import SVC \n",
    "model_svm = SVC()\n",
    "model_svm.fit(x_train, y_train)\n",
    "ACC_train_svm = model_svm.score(x_train, y_train)\n",
    "ACC_test_svm = model_svm.score(x_test, y_test)\n",
    "\n",
    "## Support Vector Machine\n",
    "from sklearn.ensemble import RandomForestClassifier \n",
    "model_rf = RandomForestClassifier()\n",
    "model_rf.fit(x_train, y_train)\n",
    "ACC_train_rf = model_rf.score(x_train, y_train)\n",
    "ACC_test_rf = model_rf.score(x_test, y_test)\n",
    "\n",
    "## Naive Bayes\n",
    "from sklearn.naive_bayes import GaussianNB\n",
    "model_nb = GaussianNB()\n",
    "model_nb.fit(x_train,y_train)\n",
    "ACC_train_nb = model_nb.score(x_train, y_train)\n",
    "ACC_test_nb = model_nb.score(x_test, y_test)\n",
    "\n",
    "## Neural Network\n",
    "from sklearn.neural_network import MLPClassifier\n",
    "model_nn = MLPClassifier()\n",
    "model_nn.fit(x_train,y_train)\n",
    "ACC_train_nn = model_nn.score(x_train,y_train)\n",
    "ACC_test_nn = model_nn.score(x_test,y_test)\n",
    "\n",
    "\n",
    "from prettytable import PrettyTable\n",
    "t = PrettyTable(['Accuracy', 'Logistic (%)'  , 'SVM (%)' , 'RF (%)', 'NB (%)', 'NN (%)'])\n",
    "t.add_row(['Training', ACC_train_lr*100, ACC_train_svm*100, ACC_train_rf*100, ACC_train_nb*100,ACC_train_nn*100])\n",
    "t.add_row(['Testing', ACC_test_lr*100, ACC_test_svm*100, ACC_test_rf*100, ACC_test_nb*100,ACC_train_nn*100])\n",
    "print(t)\n",
    "\n",
    "#from prettytable import PrettyTable\n",
    "#t = PrettyTable(['Accuracy', 'Logistic (%)' , 'DT (%)' , 'SVM (%)' , 'RF (%)', 'NB (%)', 'NN (%)'])\n",
    "#t.add_row(['Training', ACC_train_lr*100, ACC_train_dt*100, ACC_train_svm*100, ACC_train_rf*100, ACC_train_nb*100,ACC_train_nn*100])\n",
    "#t.add_row(['Testing', ACC_test_lr*100, ACC_test_dt*100, ACC_test_svm*100, ACC_test_rf*100, ACC_test_nb*100,ACC_train_nn*100])\n",
    "#print(t)"
   ]
  },
  {
   "cell_type": "code",
   "execution_count": 294,
   "metadata": {},
   "outputs": [
    {
     "name": "stderr",
     "output_type": "stream",
     "text": [
      "/Users/ahmad.zeidan/opt/anaconda3/lib/python3.7/site-packages/sklearn/linear_model/logistic.py:432: FutureWarning: Default solver will be changed to 'lbfgs' in 0.22. Specify a solver to silence this warning.\n",
      "  FutureWarning)\n",
      "/Users/ahmad.zeidan/opt/anaconda3/lib/python3.7/site-packages/sklearn/linear_model/logistic.py:432: FutureWarning: Default solver will be changed to 'lbfgs' in 0.22. Specify a solver to silence this warning.\n",
      "  FutureWarning)\n",
      "/Users/ahmad.zeidan/opt/anaconda3/lib/python3.7/site-packages/sklearn/linear_model/logistic.py:432: FutureWarning: Default solver will be changed to 'lbfgs' in 0.22. Specify a solver to silence this warning.\n",
      "  FutureWarning)\n",
      "/Users/ahmad.zeidan/opt/anaconda3/lib/python3.7/site-packages/sklearn/linear_model/logistic.py:432: FutureWarning: Default solver will be changed to 'lbfgs' in 0.22. Specify a solver to silence this warning.\n",
      "  FutureWarning)\n",
      "/Users/ahmad.zeidan/opt/anaconda3/lib/python3.7/site-packages/sklearn/linear_model/logistic.py:432: FutureWarning: Default solver will be changed to 'lbfgs' in 0.22. Specify a solver to silence this warning.\n",
      "  FutureWarning)\n",
      "/Users/ahmad.zeidan/opt/anaconda3/lib/python3.7/site-packages/sklearn/linear_model/logistic.py:432: FutureWarning: Default solver will be changed to 'lbfgs' in 0.22. Specify a solver to silence this warning.\n",
      "  FutureWarning)\n",
      "/Users/ahmad.zeidan/opt/anaconda3/lib/python3.7/site-packages/sklearn/linear_model/logistic.py:432: FutureWarning: Default solver will be changed to 'lbfgs' in 0.22. Specify a solver to silence this warning.\n",
      "  FutureWarning)\n",
      "/Users/ahmad.zeidan/opt/anaconda3/lib/python3.7/site-packages/sklearn/linear_model/logistic.py:432: FutureWarning: Default solver will be changed to 'lbfgs' in 0.22. Specify a solver to silence this warning.\n",
      "  FutureWarning)\n",
      "/Users/ahmad.zeidan/opt/anaconda3/lib/python3.7/site-packages/sklearn/linear_model/logistic.py:432: FutureWarning: Default solver will be changed to 'lbfgs' in 0.22. Specify a solver to silence this warning.\n",
      "  FutureWarning)\n",
      "/Users/ahmad.zeidan/opt/anaconda3/lib/python3.7/site-packages/sklearn/linear_model/logistic.py:432: FutureWarning: Default solver will be changed to 'lbfgs' in 0.22. Specify a solver to silence this warning.\n",
      "  FutureWarning)\n",
      "/Users/ahmad.zeidan/opt/anaconda3/lib/python3.7/site-packages/sklearn/svm/base.py:193: FutureWarning: The default value of gamma will change from 'auto' to 'scale' in version 0.22 to account better for unscaled features. Set gamma explicitly to 'auto' or 'scale' to avoid this warning.\n",
      "  \"avoid this warning.\", FutureWarning)\n",
      "/Users/ahmad.zeidan/opt/anaconda3/lib/python3.7/site-packages/sklearn/svm/base.py:193: FutureWarning: The default value of gamma will change from 'auto' to 'scale' in version 0.22 to account better for unscaled features. Set gamma explicitly to 'auto' or 'scale' to avoid this warning.\n",
      "  \"avoid this warning.\", FutureWarning)\n",
      "/Users/ahmad.zeidan/opt/anaconda3/lib/python3.7/site-packages/sklearn/svm/base.py:193: FutureWarning: The default value of gamma will change from 'auto' to 'scale' in version 0.22 to account better for unscaled features. Set gamma explicitly to 'auto' or 'scale' to avoid this warning.\n",
      "  \"avoid this warning.\", FutureWarning)\n",
      "/Users/ahmad.zeidan/opt/anaconda3/lib/python3.7/site-packages/sklearn/svm/base.py:193: FutureWarning: The default value of gamma will change from 'auto' to 'scale' in version 0.22 to account better for unscaled features. Set gamma explicitly to 'auto' or 'scale' to avoid this warning.\n",
      "  \"avoid this warning.\", FutureWarning)\n",
      "/Users/ahmad.zeidan/opt/anaconda3/lib/python3.7/site-packages/sklearn/svm/base.py:193: FutureWarning: The default value of gamma will change from 'auto' to 'scale' in version 0.22 to account better for unscaled features. Set gamma explicitly to 'auto' or 'scale' to avoid this warning.\n",
      "  \"avoid this warning.\", FutureWarning)\n",
      "/Users/ahmad.zeidan/opt/anaconda3/lib/python3.7/site-packages/sklearn/svm/base.py:193: FutureWarning: The default value of gamma will change from 'auto' to 'scale' in version 0.22 to account better for unscaled features. Set gamma explicitly to 'auto' or 'scale' to avoid this warning.\n",
      "  \"avoid this warning.\", FutureWarning)\n",
      "/Users/ahmad.zeidan/opt/anaconda3/lib/python3.7/site-packages/sklearn/svm/base.py:193: FutureWarning: The default value of gamma will change from 'auto' to 'scale' in version 0.22 to account better for unscaled features. Set gamma explicitly to 'auto' or 'scale' to avoid this warning.\n",
      "  \"avoid this warning.\", FutureWarning)\n",
      "/Users/ahmad.zeidan/opt/anaconda3/lib/python3.7/site-packages/sklearn/svm/base.py:193: FutureWarning: The default value of gamma will change from 'auto' to 'scale' in version 0.22 to account better for unscaled features. Set gamma explicitly to 'auto' or 'scale' to avoid this warning.\n",
      "  \"avoid this warning.\", FutureWarning)\n",
      "/Users/ahmad.zeidan/opt/anaconda3/lib/python3.7/site-packages/sklearn/svm/base.py:193: FutureWarning: The default value of gamma will change from 'auto' to 'scale' in version 0.22 to account better for unscaled features. Set gamma explicitly to 'auto' or 'scale' to avoid this warning.\n",
      "  \"avoid this warning.\", FutureWarning)\n",
      "/Users/ahmad.zeidan/opt/anaconda3/lib/python3.7/site-packages/sklearn/svm/base.py:193: FutureWarning: The default value of gamma will change from 'auto' to 'scale' in version 0.22 to account better for unscaled features. Set gamma explicitly to 'auto' or 'scale' to avoid this warning.\n",
      "  \"avoid this warning.\", FutureWarning)\n",
      "/Users/ahmad.zeidan/opt/anaconda3/lib/python3.7/site-packages/sklearn/ensemble/forest.py:245: FutureWarning: The default value of n_estimators will change from 10 in version 0.20 to 100 in 0.22.\n",
      "  \"10 in version 0.20 to 100 in 0.22.\", FutureWarning)\n",
      "/Users/ahmad.zeidan/opt/anaconda3/lib/python3.7/site-packages/sklearn/ensemble/forest.py:245: FutureWarning: The default value of n_estimators will change from 10 in version 0.20 to 100 in 0.22.\n",
      "  \"10 in version 0.20 to 100 in 0.22.\", FutureWarning)\n",
      "/Users/ahmad.zeidan/opt/anaconda3/lib/python3.7/site-packages/sklearn/ensemble/forest.py:245: FutureWarning: The default value of n_estimators will change from 10 in version 0.20 to 100 in 0.22.\n",
      "  \"10 in version 0.20 to 100 in 0.22.\", FutureWarning)\n",
      "/Users/ahmad.zeidan/opt/anaconda3/lib/python3.7/site-packages/sklearn/ensemble/forest.py:245: FutureWarning: The default value of n_estimators will change from 10 in version 0.20 to 100 in 0.22.\n",
      "  \"10 in version 0.20 to 100 in 0.22.\", FutureWarning)\n",
      "/Users/ahmad.zeidan/opt/anaconda3/lib/python3.7/site-packages/sklearn/ensemble/forest.py:245: FutureWarning: The default value of n_estimators will change from 10 in version 0.20 to 100 in 0.22.\n",
      "  \"10 in version 0.20 to 100 in 0.22.\", FutureWarning)\n",
      "/Users/ahmad.zeidan/opt/anaconda3/lib/python3.7/site-packages/sklearn/ensemble/forest.py:245: FutureWarning: The default value of n_estimators will change from 10 in version 0.20 to 100 in 0.22.\n",
      "  \"10 in version 0.20 to 100 in 0.22.\", FutureWarning)\n",
      "/Users/ahmad.zeidan/opt/anaconda3/lib/python3.7/site-packages/sklearn/ensemble/forest.py:245: FutureWarning: The default value of n_estimators will change from 10 in version 0.20 to 100 in 0.22.\n",
      "  \"10 in version 0.20 to 100 in 0.22.\", FutureWarning)\n",
      "/Users/ahmad.zeidan/opt/anaconda3/lib/python3.7/site-packages/sklearn/ensemble/forest.py:245: FutureWarning: The default value of n_estimators will change from 10 in version 0.20 to 100 in 0.22.\n",
      "  \"10 in version 0.20 to 100 in 0.22.\", FutureWarning)\n",
      "/Users/ahmad.zeidan/opt/anaconda3/lib/python3.7/site-packages/sklearn/ensemble/forest.py:245: FutureWarning: The default value of n_estimators will change from 10 in version 0.20 to 100 in 0.22.\n",
      "  \"10 in version 0.20 to 100 in 0.22.\", FutureWarning)\n",
      "/Users/ahmad.zeidan/opt/anaconda3/lib/python3.7/site-packages/sklearn/ensemble/forest.py:245: FutureWarning: The default value of n_estimators will change from 10 in version 0.20 to 100 in 0.22.\n",
      "  \"10 in version 0.20 to 100 in 0.22.\", FutureWarning)\n"
     ]
    },
    {
     "name": "stdout",
     "output_type": "stream",
     "text": [
      "+----------+-------------------+-------------------+-------------------+-------------------+\n",
      "| Accuracy |    Logistic (%)   |      SVM (%)      |       RF (%)      |       NB (%)      |\n",
      "+----------+-------------------+-------------------+-------------------+-------------------+\n",
      "| Testing  | 71.64603230889857 | 71.87728804368727 | 71.60277246294709 | 71.71423201542109 |\n",
      "+----------+-------------------+-------------------+-------------------+-------------------+\n"
     ]
    }
   ],
   "source": [
    "#x = Final_CardiovascularDS_DS.drop(['cardiovascular disease'], axis=1)\n",
    "#y = Final_CardiovascularDS_DS['cardiovascular disease']\n",
    "\n",
    "from sklearn.metrics import classification_report # text report showing the main classification metrics\n",
    "from sklearn.metrics import confusion_matrix #to get confusion_matirx \n",
    "\n",
    "from sklearn.model_selection import cross_val_score\n",
    "cv_value = 10\n",
    "##LR\n",
    "from sklearn.linear_model import LogisticRegression\n",
    "ACC_test_lr = cross_val_score(LogisticRegression(),x,y,cv = cv_value)\n",
    "\n",
    "##DT\n",
    "#from sklearn.tree import DecisionTreeClassifier\n",
    "#ACC_test_dt = cross_val_score(DecisionTreeClassifier(),x,y,cv = cv_value)\n",
    "\n",
    "##SVM\n",
    "from sklearn.svm import SVC\n",
    "ACC_test_svm = cross_val_score(SVC(),x,y,cv = cv_value)\n",
    "\n",
    "##RF\n",
    "from sklearn.ensemble import RandomForestClassifier\n",
    "ACC_test_rf = cross_val_score(RandomForestClassifier(),x,y,cv = cv_value)\n",
    "\n",
    "##NB\n",
    "from sklearn.naive_bayes import GaussianNB\n",
    "ACC_test_nb = cross_val_score(GaussianNB(),x,y,cv = cv_value)\n",
    "\n",
    "ACC_test_lr_mean = np.mean(ACC_test_lr);\n",
    "#ACC_test_dt_mean = np.mean(ACC_test_dt);\n",
    "ACC_test_svm_mean = np.mean(ACC_test_svm);\n",
    "ACC_test_rf_mean = np.mean(ACC_test_rf);\n",
    "ACC_test_nb_mean = np.mean(ACC_test_nb);\n",
    "\n",
    "\n",
    "from prettytable import PrettyTable\n",
    "t = PrettyTable(['Accuracy', 'Logistic (%)'  , 'SVM (%)' , 'RF (%)', 'NB (%)'])\n",
    "t.add_row(['Testing', ACC_test_lr_mean*100, ACC_test_svm_mean*100, ACC_test_rf_mean*100, ACC_test_nb_mean*100])\n",
    "print(t)\n",
    "\n",
    "#from prettytable import PrettyTable\n",
    "#t = PrettyTable(['Accuracy', 'Logistic (%)' , 'DT (%)' , 'SVM (%)' , 'RF (%)', 'NB (%)'])\n",
    "#t.add_row(['Testing', ACC_test_lr_mean*100, ACC_test_dt_mean*100, ACC_test_svm_mean*100, ACC_test_rf_mean*100, ACC_test_nb_mean*100])\n",
    "#print(t)"
   ]
  },
  {
   "cell_type": "markdown",
   "metadata": {},
   "source": [
    "In our case :\n",
    "\n",
    "True Positive : No of Cases Predicted with CVD and Actually had CVD\n",
    "True Negative : No of Cases Predicted with No CVD and Actually had No CVD\n",
    "False Positive : No of Cases Predicted with CVD and Actually had No CVD\n",
    "False Negative : No of Cases Predicted with No CVD and Actually had CVD"
   ]
  },
  {
   "cell_type": "code",
   "execution_count": 295,
   "metadata": {},
   "outputs": [
    {
     "name": "stdout",
     "output_type": "stream",
     "text": [
      "              precision    recall  f1-score   support\n",
      "\n",
      "           0       0.70      0.80      0.75      6196\n",
      "           1       0.75      0.63      0.69      5826\n",
      "\n",
      "    accuracy                           0.72     12022\n",
      "   macro avg       0.73      0.72      0.72     12022\n",
      "weighted avg       0.72      0.72      0.72     12022\n",
      "\n",
      "LR True Positive Cases : 3673\n",
      "LR True Negative Cases : 4984\n",
      "LR False Positive Cases : 1212\n",
      "LR False Negative Cases : 2153\n"
     ]
    }
   ],
   "source": [
    "y_predict = model_lr.predict(x_test)\n",
    "print(classification_report(y_test, y_predict))\n",
    "print('LR True Positive Cases : {}'.format(confusion_matrix(y_test, y_predict)[1][1]))\n",
    "print('LR True Negative Cases : {}'.format(confusion_matrix(y_test, y_predict)[0][0]))\n",
    "print('LR False Positive Cases : {}'.format(confusion_matrix(y_test, y_predict)[0][1]))\n",
    "print('LR False Negative Cases : {}'.format(confusion_matrix(y_test, y_predict)[1][0]))"
   ]
  },
  {
   "cell_type": "code",
   "execution_count": 296,
   "metadata": {},
   "outputs": [
    {
     "name": "stdout",
     "output_type": "stream",
     "text": [
      "              precision    recall  f1-score   support\n",
      "\n",
      "           0       0.70      0.82      0.76      6196\n",
      "           1       0.76      0.64      0.69      5826\n",
      "\n",
      "    accuracy                           0.73     12022\n",
      "   macro avg       0.73      0.73      0.72     12022\n",
      "weighted avg       0.73      0.73      0.73     12022\n",
      "\n",
      "SVM True Positive Cases : 3701\n",
      "SVM True Negative Cases : 5055\n",
      "SVM False Positive Cases : 1141\n",
      "SVM False Negative Cases : 2125\n"
     ]
    }
   ],
   "source": [
    "y_predict = model_svm.predict(x_test)\n",
    "print(classification_report(y_test, y_predict))\n",
    "print('SVM True Positive Cases : {}'.format(confusion_matrix(y_test, y_predict)[1][1]))\n",
    "print('SVM True Negative Cases : {}'.format(confusion_matrix(y_test, y_predict)[0][0]))\n",
    "print('SVM False Positive Cases : {}'.format(confusion_matrix(y_test, y_predict)[0][1]))\n",
    "print('SVM False Negative Cases : {}'.format(confusion_matrix(y_test, y_predict)[1][0]))"
   ]
  },
  {
   "cell_type": "code",
   "execution_count": 297,
   "metadata": {},
   "outputs": [
    {
     "name": "stdout",
     "output_type": "stream",
     "text": [
      "              precision    recall  f1-score   support\n",
      "\n",
      "           0       0.70      0.78      0.74      6196\n",
      "           1       0.74      0.65      0.69      5826\n",
      "\n",
      "    accuracy                           0.72     12022\n",
      "   macro avg       0.72      0.72      0.72     12022\n",
      "weighted avg       0.72      0.72      0.72     12022\n",
      "\n",
      "RF True Positive Cases : 3776\n",
      "RF True Negative Cases : 4856\n",
      "RF False Positive Cases : 1340\n",
      "RF False Negative Cases : 2050\n"
     ]
    }
   ],
   "source": [
    "y_predict = model_rf.predict(x_test)\n",
    "print(classification_report(y_test, y_predict))\n",
    "print('RF True Positive Cases : {}'.format(confusion_matrix(y_test, y_predict)[1][1]))\n",
    "print('RF True Negative Cases : {}'.format(confusion_matrix(y_test, y_predict)[0][0]))\n",
    "print('RF False Positive Cases : {}'.format(confusion_matrix(y_test, y_predict)[0][1]))\n",
    "print('RF False Negative Cases : {}'.format(confusion_matrix(y_test, y_predict)[1][0]))"
   ]
  },
  {
   "cell_type": "code",
   "execution_count": 298,
   "metadata": {},
   "outputs": [
    {
     "name": "stdout",
     "output_type": "stream",
     "text": [
      "              precision    recall  f1-score   support\n",
      "\n",
      "           0       0.69      0.84      0.75      6196\n",
      "           1       0.77      0.60      0.67      5826\n",
      "\n",
      "    accuracy                           0.72     12022\n",
      "   macro avg       0.73      0.72      0.71     12022\n",
      "weighted avg       0.73      0.72      0.72     12022\n",
      "\n",
      "NB True Positive Cases : 3475\n",
      "NB True Negative Cases : 5176\n",
      "NB False Positive Cases : 1020\n",
      "NB False Negative Cases : 2351\n"
     ]
    }
   ],
   "source": [
    "y_predict = model_nb.predict(x_test)\n",
    "print(classification_report(y_test, y_predict))\n",
    "print('NB True Positive Cases : {}'.format(confusion_matrix(y_test, y_predict)[1][1]))\n",
    "print('NB True Negative Cases : {}'.format(confusion_matrix(y_test, y_predict)[0][0]))\n",
    "print('NB False Positive Cases : {}'.format(confusion_matrix(y_test, y_predict)[0][1]))\n",
    "print('NB False Negative Cases : {}'.format(confusion_matrix(y_test, y_predict)[1][0]))"
   ]
  },
  {
   "cell_type": "code",
   "execution_count": 84,
   "metadata": {},
   "outputs": [
    {
     "name": "stdout",
     "output_type": "stream",
     "text": [
      "              precision    recall  f1-score   support\n",
      "\n",
      "           0       0.70      0.80      0.75      6196\n",
      "           1       0.75      0.63      0.69      5826\n",
      "\n",
      "    accuracy                           0.72     12022\n",
      "   macro avg       0.72      0.72      0.72     12022\n",
      "weighted avg       0.72      0.72      0.72     12022\n",
      "\n",
      "NN True Positive Cases : 3692\n",
      "NN True Negative Cases : 4949\n",
      "NN False Positive Cases : 1247\n",
      "NN False Negative Cases : 2134\n"
     ]
    }
   ],
   "source": [
    "from sklearn.metrics import classification_report # text report showing the main classification metrics\n",
    "from sklearn.metrics import confusion_matrix #to get confusion_matirx \n",
    "y_predict = model_nn.predict(x_test)\n",
    "print(classification_report(y_test, y_predict))\n",
    "print('NN True Positive Cases : {}'.format(confusion_matrix(y_test, y_predict)[1][1]))\n",
    "print('NN True Negative Cases : {}'.format(confusion_matrix(y_test, y_predict)[0][0]))\n",
    "print('NN False Positive Cases : {}'.format(confusion_matrix(y_test, y_predict)[0][1]))\n",
    "print('NN False Negative Cases : {}'.format(confusion_matrix(y_test, y_predict)[1][0]))"
   ]
  },
  {
   "cell_type": "code",
   "execution_count": 85,
   "metadata": {},
   "outputs": [],
   "source": [
    "y_pred_prob = model_nn.predict_proba(x_test)"
   ]
  },
  {
   "cell_type": "code",
   "execution_count": 86,
   "metadata": {},
   "outputs": [
    {
     "name": "stdout",
     "output_type": "stream",
     "text": [
      "Sensitivity (recall) score:  0.6337109509097151\n",
      "precision score:  0.7475197408382264\n",
      "f1 score:  0.6859266140269391\n",
      "accuracy score:  0.7187655964065879\n",
      "ROC AUC: 0.7859188939986973\n"
     ]
    }
   ],
   "source": [
    "from sklearn.metrics import roc_auc_score, recall_score, precision_score, accuracy_score, f1_score \n",
    "print(\"Sensitivity (recall) score: \", recall_score(y_test,y_predict))\n",
    "print(\"precision score: \", precision_score(y_test,y_predict))\n",
    "print(\"f1 score: \", f1_score(y_test,y_predict))\n",
    "print(\"accuracy score: \", accuracy_score(y_test,y_predict))\n",
    "print(\"ROC AUC: {}\".format(roc_auc_score(y_test, y_pred_prob[:,1])))"
   ]
  },
  {
   "cell_type": "markdown",
   "metadata": {},
   "source": [
    "We trained KNN, RandomForest and Logistic Regression with different penality and reveived almost similar results.\n",
    "\n",
    "Here We dealing with a problem of a disease impacting a human health. So, We can't put someone's health in danger with our reckless decision\n",
    "\n",
    "We need to have an accurate model.\n",
    "\n",
    "In such cases, it's not a big threat if our model predict a Non CVD case as CVD (False Positive) because medical staff can later examine him/her.\n",
    "\n",
    "But We can't risk of predicting a CVD case as Non CVD (False Negative) because in that case we'll be jeopardizing with that person's life.\n",
    "\n",
    "Considering False Negative as a major factor, We will choose Random Forest as our model for the probelm since it's having the fine accuracy with Lower False Negative Cases"
   ]
  },
  {
   "cell_type": "code",
   "execution_count": null,
   "metadata": {},
   "outputs": [],
   "source": []
  },
  {
   "cell_type": "code",
   "execution_count": 1,
   "metadata": {},
   "outputs": [
    {
     "ename": "NameError",
     "evalue": "name 'x_train' is not defined",
     "output_type": "error",
     "traceback": [
      "\u001b[0;31m---------------------------------------------------------------------------\u001b[0m",
      "\u001b[0;31mNameError\u001b[0m                                 Traceback (most recent call last)",
      "\u001b[0;32m<ipython-input-1-f06e1578b836>\u001b[0m in \u001b[0;36m<module>\u001b[0;34m\u001b[0m\n\u001b[1;32m      1\u001b[0m \u001b[0;32mfrom\u001b[0m \u001b[0msklearn\u001b[0m\u001b[0;34m.\u001b[0m\u001b[0mensemble\u001b[0m \u001b[0;32mimport\u001b[0m \u001b[0mRandomForestClassifier\u001b[0m\u001b[0;34m\u001b[0m\u001b[0;34m\u001b[0m\u001b[0m\n\u001b[1;32m      2\u001b[0m \u001b[0mmodel_rf\u001b[0m \u001b[0;34m=\u001b[0m \u001b[0mRandomForestClassifier\u001b[0m\u001b[0;34m(\u001b[0m\u001b[0;34m)\u001b[0m\u001b[0;34m\u001b[0m\u001b[0;34m\u001b[0m\u001b[0m\n\u001b[0;32m----> 3\u001b[0;31m \u001b[0mmodel_rf\u001b[0m\u001b[0;34m.\u001b[0m\u001b[0mfit\u001b[0m\u001b[0;34m(\u001b[0m\u001b[0mx_train\u001b[0m\u001b[0;34m,\u001b[0m \u001b[0my_train\u001b[0m\u001b[0;34m)\u001b[0m\u001b[0;34m\u001b[0m\u001b[0;34m\u001b[0m\u001b[0m\n\u001b[0m\u001b[1;32m      4\u001b[0m \u001b[0mACC_train_rf\u001b[0m \u001b[0;34m=\u001b[0m \u001b[0mmodel_rf\u001b[0m\u001b[0;34m.\u001b[0m\u001b[0mscore\u001b[0m\u001b[0;34m(\u001b[0m\u001b[0mx_train\u001b[0m\u001b[0;34m,\u001b[0m \u001b[0my_train\u001b[0m\u001b[0;34m)\u001b[0m\u001b[0;34m\u001b[0m\u001b[0;34m\u001b[0m\u001b[0m\n\u001b[1;32m      5\u001b[0m \u001b[0mACC_test_rf\u001b[0m \u001b[0;34m=\u001b[0m \u001b[0mmodel_rf\u001b[0m\u001b[0;34m.\u001b[0m\u001b[0mscore\u001b[0m\u001b[0;34m(\u001b[0m\u001b[0mx_test\u001b[0m\u001b[0;34m,\u001b[0m \u001b[0my_test\u001b[0m\u001b[0;34m)\u001b[0m\u001b[0;34m\u001b[0m\u001b[0;34m\u001b[0m\u001b[0m\n",
      "\u001b[0;31mNameError\u001b[0m: name 'x_train' is not defined"
     ]
    }
   ],
   "source": [
    "\n",
    "from sklearn.ensemble import RandomForestClassifier \n",
    "model_rf = RandomForestClassifier()\n",
    "model_rf.fit(x_train, y_train)\n",
    "ACC_train_rf = model_rf.score(x_train, y_train)\n",
    "ACC_test_rf = model_rf.score(x_test, y_test)\n",
    "y_predict = model_rf.predict(x_test)\n",
    "print(classification_report(y_test, y_predict))\n",
    "print('RF True Positive Cases : {}'.format(confusion_matrix(y_test, y_predict)[1][1]))\n",
    "print('RF True Negative Cases : {}'.format(confusion_matrix(y_test, y_predict)[0][0]))\n",
    "print('RF False Positive Cases : {}'.format(confusion_matrix(y_test, y_predict)[0][1]))\n",
    "print('RF False Negative Cases : {}'.format(confusion_matrix(y_test, y_predict)[1][0]))"
   ]
  },
  {
   "cell_type": "code",
   "execution_count": 303,
   "metadata": {},
   "outputs": [
    {
     "name": "stdout",
     "output_type": "stream",
     "text": [
      "0.7320633864326416\n",
      "0.7274164032606887\n",
      "              precision    recall  f1-score   support\n",
      "\n",
      "           0       0.71      0.79      0.75      6196\n",
      "           1       0.75      0.66      0.70      5826\n",
      "\n",
      "    accuracy                           0.73     12022\n",
      "   macro avg       0.73      0.73      0.73     12022\n",
      "weighted avg       0.73      0.73      0.73     12022\n",
      "\n",
      "RF True Positive Cases : 3840\n",
      "RF True Negative Cases : 4905\n",
      "RF False Positive Cases : 1291\n",
      "RF False Negative Cases : 1986\n"
     ]
    }
   ],
   "source": [
    "from sklearn.ensemble import RandomForestClassifier \n",
    "model_rf = RandomForestClassifier(random_state=42, n_estimators=100, max_depth= 10, criterion = 'entropy')\n",
    "model_rf.fit(x_train, y_train)\n",
    "ACC_train_rf = model_rf.score(x_train, y_train)\n",
    "ACC_test_rf = model_rf.score(x_test, y_test)\n",
    "\n",
    "print(ACC_train_rf)\n",
    "print(ACC_test_rf)\n",
    "\n",
    "y_predict = model_rf.predict(x_test)\n",
    "print(classification_report(y_test, y_predict))\n",
    "print('RF True Positive Cases : {}'.format(confusion_matrix(y_test, y_predict)[1][1]))\n",
    "print('RF True Negative Cases : {}'.format(confusion_matrix(y_test, y_predict)[0][0]))\n",
    "print('RF False Positive Cases : {}'.format(confusion_matrix(y_test, y_predict)[0][1]))\n",
    "print('RF False Negative Cases : {}'.format(confusion_matrix(y_test, y_predict)[1][0]))"
   ]
  },
  {
   "cell_type": "code",
   "execution_count": 90,
   "metadata": {},
   "outputs": [
    {
     "data": {
      "text/html": [
       "<div>\n",
       "<style scoped>\n",
       "    .dataframe tbody tr th:only-of-type {\n",
       "        vertical-align: middle;\n",
       "    }\n",
       "\n",
       "    .dataframe tbody tr th {\n",
       "        vertical-align: top;\n",
       "    }\n",
       "\n",
       "    .dataframe thead th {\n",
       "        text-align: right;\n",
       "    }\n",
       "</style>\n",
       "<table border=\"1\" class=\"dataframe\">\n",
       "  <thead>\n",
       "    <tr style=\"text-align: right;\">\n",
       "      <th></th>\n",
       "      <th>weight</th>\n",
       "      <th>height</th>\n",
       "      <th>systolic</th>\n",
       "      <th>diastolic</th>\n",
       "      <th>gender</th>\n",
       "      <th>age_tees</th>\n",
       "      <th>age_year</th>\n",
       "      <th>BMI</th>\n",
       "      <th>BMIStatus</th>\n",
       "      <th>cholesterol</th>\n",
       "      <th>alcohol</th>\n",
       "      <th>smoke</th>\n",
       "      <th>glucose</th>\n",
       "      <th>active</th>\n",
       "      <th>blood_category</th>\n",
       "      <th>pulse</th>\n",
       "      <th>cardiovascular disease</th>\n",
       "    </tr>\n",
       "  </thead>\n",
       "  <tbody>\n",
       "    <tr>\n",
       "      <td>0</td>\n",
       "      <td>62.0</td>\n",
       "      <td>168</td>\n",
       "      <td>110</td>\n",
       "      <td>80</td>\n",
       "      <td>2</td>\n",
       "      <td>2</td>\n",
       "      <td>50</td>\n",
       "      <td>21.967120</td>\n",
       "      <td>1</td>\n",
       "      <td>1</td>\n",
       "      <td>0</td>\n",
       "      <td>0</td>\n",
       "      <td>1</td>\n",
       "      <td>1</td>\n",
       "      <td>1</td>\n",
       "      <td>30</td>\n",
       "      <td>0</td>\n",
       "    </tr>\n",
       "    <tr>\n",
       "      <td>1</td>\n",
       "      <td>85.0</td>\n",
       "      <td>156</td>\n",
       "      <td>140</td>\n",
       "      <td>90</td>\n",
       "      <td>1</td>\n",
       "      <td>3</td>\n",
       "      <td>55</td>\n",
       "      <td>34.927679</td>\n",
       "      <td>0</td>\n",
       "      <td>3</td>\n",
       "      <td>0</td>\n",
       "      <td>0</td>\n",
       "      <td>1</td>\n",
       "      <td>1</td>\n",
       "      <td>2</td>\n",
       "      <td>50</td>\n",
       "      <td>1</td>\n",
       "    </tr>\n",
       "    <tr>\n",
       "      <td>2</td>\n",
       "      <td>64.0</td>\n",
       "      <td>165</td>\n",
       "      <td>130</td>\n",
       "      <td>70</td>\n",
       "      <td>1</td>\n",
       "      <td>3</td>\n",
       "      <td>52</td>\n",
       "      <td>23.507805</td>\n",
       "      <td>1</td>\n",
       "      <td>3</td>\n",
       "      <td>0</td>\n",
       "      <td>0</td>\n",
       "      <td>1</td>\n",
       "      <td>0</td>\n",
       "      <td>1</td>\n",
       "      <td>60</td>\n",
       "      <td>1</td>\n",
       "    </tr>\n",
       "    <tr>\n",
       "      <td>3</td>\n",
       "      <td>82.0</td>\n",
       "      <td>169</td>\n",
       "      <td>150</td>\n",
       "      <td>100</td>\n",
       "      <td>2</td>\n",
       "      <td>2</td>\n",
       "      <td>48</td>\n",
       "      <td>28.710479</td>\n",
       "      <td>0</td>\n",
       "      <td>1</td>\n",
       "      <td>0</td>\n",
       "      <td>0</td>\n",
       "      <td>1</td>\n",
       "      <td>1</td>\n",
       "      <td>2</td>\n",
       "      <td>50</td>\n",
       "      <td>1</td>\n",
       "    </tr>\n",
       "    <tr>\n",
       "      <td>4</td>\n",
       "      <td>56.0</td>\n",
       "      <td>156</td>\n",
       "      <td>100</td>\n",
       "      <td>60</td>\n",
       "      <td>1</td>\n",
       "      <td>2</td>\n",
       "      <td>48</td>\n",
       "      <td>23.011177</td>\n",
       "      <td>1</td>\n",
       "      <td>1</td>\n",
       "      <td>0</td>\n",
       "      <td>0</td>\n",
       "      <td>1</td>\n",
       "      <td>0</td>\n",
       "      <td>3</td>\n",
       "      <td>40</td>\n",
       "      <td>0</td>\n",
       "    </tr>\n",
       "  </tbody>\n",
       "</table>\n",
       "</div>"
      ],
      "text/plain": [
       "   weight  height  systolic  diastolic  gender  age_tees  age_year        BMI  \\\n",
       "0    62.0     168       110         80       2         2        50  21.967120   \n",
       "1    85.0     156       140         90       1         3        55  34.927679   \n",
       "2    64.0     165       130         70       1         3        52  23.507805   \n",
       "3    82.0     169       150        100       2         2        48  28.710479   \n",
       "4    56.0     156       100         60       1         2        48  23.011177   \n",
       "\n",
       "   BMIStatus  cholesterol  alcohol  smoke  glucose  active  blood_category  \\\n",
       "0          1            1        0      0        1       1               1   \n",
       "1          0            3        0      0        1       1               2   \n",
       "2          1            3        0      0        1       0               1   \n",
       "3          0            1        0      0        1       1               2   \n",
       "4          1            1        0      0        1       0               3   \n",
       "\n",
       "   pulse  cardiovascular disease  \n",
       "0     30                       0  \n",
       "1     50                       1  \n",
       "2     60                       1  \n",
       "3     50                       1  \n",
       "4     40                       0  "
      ]
     },
     "execution_count": 90,
     "metadata": {},
     "output_type": "execute_result"
    }
   ],
   "source": [
    "CardiovascularDS_DS.head()"
   ]
  },
  {
   "cell_type": "code",
   "execution_count": 91,
   "metadata": {},
   "outputs": [
    {
     "data": {
      "text/html": [
       "<div>\n",
       "<style scoped>\n",
       "    .dataframe tbody tr th:only-of-type {\n",
       "        vertical-align: middle;\n",
       "    }\n",
       "\n",
       "    .dataframe tbody tr th {\n",
       "        vertical-align: top;\n",
       "    }\n",
       "\n",
       "    .dataframe thead th {\n",
       "        text-align: right;\n",
       "    }\n",
       "</style>\n",
       "<table border=\"1\" class=\"dataframe\">\n",
       "  <thead>\n",
       "    <tr style=\"text-align: right;\">\n",
       "      <th></th>\n",
       "      <th>weight</th>\n",
       "      <th>height</th>\n",
       "      <th>systolic</th>\n",
       "      <th>diastolic</th>\n",
       "      <th>age_year</th>\n",
       "      <th>cholesterol</th>\n",
       "      <th>alcohol</th>\n",
       "      <th>smoke</th>\n",
       "      <th>glucose</th>\n",
       "      <th>active</th>\n",
       "      <th>cardiovascular disease</th>\n",
       "    </tr>\n",
       "  </thead>\n",
       "  <tbody>\n",
       "    <tr>\n",
       "      <td>0</td>\n",
       "      <td>62.0</td>\n",
       "      <td>168</td>\n",
       "      <td>110</td>\n",
       "      <td>80</td>\n",
       "      <td>50</td>\n",
       "      <td>1</td>\n",
       "      <td>0</td>\n",
       "      <td>0</td>\n",
       "      <td>1</td>\n",
       "      <td>1</td>\n",
       "      <td>0</td>\n",
       "    </tr>\n",
       "    <tr>\n",
       "      <td>1</td>\n",
       "      <td>85.0</td>\n",
       "      <td>156</td>\n",
       "      <td>140</td>\n",
       "      <td>90</td>\n",
       "      <td>55</td>\n",
       "      <td>3</td>\n",
       "      <td>0</td>\n",
       "      <td>0</td>\n",
       "      <td>1</td>\n",
       "      <td>1</td>\n",
       "      <td>1</td>\n",
       "    </tr>\n",
       "    <tr>\n",
       "      <td>2</td>\n",
       "      <td>64.0</td>\n",
       "      <td>165</td>\n",
       "      <td>130</td>\n",
       "      <td>70</td>\n",
       "      <td>52</td>\n",
       "      <td>3</td>\n",
       "      <td>0</td>\n",
       "      <td>0</td>\n",
       "      <td>1</td>\n",
       "      <td>0</td>\n",
       "      <td>1</td>\n",
       "    </tr>\n",
       "    <tr>\n",
       "      <td>3</td>\n",
       "      <td>82.0</td>\n",
       "      <td>169</td>\n",
       "      <td>150</td>\n",
       "      <td>100</td>\n",
       "      <td>48</td>\n",
       "      <td>1</td>\n",
       "      <td>0</td>\n",
       "      <td>0</td>\n",
       "      <td>1</td>\n",
       "      <td>1</td>\n",
       "      <td>1</td>\n",
       "    </tr>\n",
       "    <tr>\n",
       "      <td>4</td>\n",
       "      <td>56.0</td>\n",
       "      <td>156</td>\n",
       "      <td>100</td>\n",
       "      <td>60</td>\n",
       "      <td>48</td>\n",
       "      <td>1</td>\n",
       "      <td>0</td>\n",
       "      <td>0</td>\n",
       "      <td>1</td>\n",
       "      <td>0</td>\n",
       "      <td>0</td>\n",
       "    </tr>\n",
       "  </tbody>\n",
       "</table>\n",
       "</div>"
      ],
      "text/plain": [
       "   weight  height  systolic  diastolic  age_year  cholesterol  alcohol  smoke  \\\n",
       "0    62.0     168       110         80        50            1        0      0   \n",
       "1    85.0     156       140         90        55            3        0      0   \n",
       "2    64.0     165       130         70        52            3        0      0   \n",
       "3    82.0     169       150        100        48            1        0      0   \n",
       "4    56.0     156       100         60        48            1        0      0   \n",
       "\n",
       "   glucose  active  cardiovascular disease  \n",
       "0        1       1                       0  \n",
       "1        1       1                       1  \n",
       "2        1       0                       1  \n",
       "3        1       1                       1  \n",
       "4        1       0                       0  "
      ]
     },
     "execution_count": 91,
     "metadata": {},
     "output_type": "execute_result"
    }
   ],
   "source": [
    "Test_CardiovascularDS_DS = CardiovascularDS_DS[[\"weight\",\"height\",\"systolic\",\"diastolic\",\"age_year\",\"cholesterol\",\"alcohol\",\"smoke\",\"glucose\",\"active\",\"cardiovascular disease\"]].copy()\n",
    "Test_CardiovascularDS_DS.head()"
   ]
  },
  {
   "cell_type": "code",
   "execution_count": 92,
   "metadata": {},
   "outputs": [],
   "source": [
    "xx = Test_CardiovascularDS_DS.drop(['cardiovascular disease'], axis=1)\n",
    "yy = Test_CardiovascularDS_DS['cardiovascular disease']"
   ]
  },
  {
   "cell_type": "code",
   "execution_count": 93,
   "metadata": {},
   "outputs": [
    {
     "name": "stdout",
     "output_type": "stream",
     "text": [
      "size of test dataset = 12022, size of traing data = 48086, percentage = 20.000665468822785%\n"
     ]
    }
   ],
   "source": [
    "from sklearn.model_selection import train_test_split\n",
    "\n",
    "xx_train, xx_test, yy_train, yy_test = train_test_split(xx,yy,test_size=0.2,random_state=42, shuffle = True)\n",
    "print('size of test dataset = {}, size of traing data = {}, percentage = {}%'.format(len(xx_test),len(xx_train),len(xx_test)*100/(len(xx_test) + len(xx_train))))"
   ]
  },
  {
   "cell_type": "code",
   "execution_count": 95,
   "metadata": {},
   "outputs": [
    {
     "name": "stdout",
     "output_type": "stream",
     "text": [
      "0.7049245102524644\n",
      "0.7116120445849277\n"
     ]
    }
   ],
   "source": [
    "from sklearn.neural_network import MLPClassifier\n",
    "model_nn = MLPClassifier()\n",
    "model_nn.fit(xx_train,yy_train)\n",
    "ACC_train_nn = model_nn.score(xx_train,yy_train)\n",
    "ACC_test_nn = model_nn.score(xx_test,yy_test)\n",
    "\n",
    "print(ACC_train_nn)\n",
    "print(ACC_test_nn)"
   ]
  },
  {
   "cell_type": "code",
   "execution_count": null,
   "metadata": {},
   "outputs": [],
   "source": []
  }
 ],
 "metadata": {
  "kernelspec": {
   "display_name": "Python 3",
   "language": "python",
   "name": "python3"
  },
  "language_info": {
   "codemirror_mode": {
    "name": "ipython",
    "version": 3
   },
   "file_extension": ".py",
   "mimetype": "text/x-python",
   "name": "python",
   "nbconvert_exporter": "python",
   "pygments_lexer": "ipython3",
   "version": "3.7.4"
  }
 },
 "nbformat": 4,
 "nbformat_minor": 2
}
